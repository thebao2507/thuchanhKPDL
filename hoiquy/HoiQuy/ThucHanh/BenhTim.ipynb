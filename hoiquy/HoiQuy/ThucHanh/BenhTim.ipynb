{
 "cells": [
  {
   "cell_type": "code",
   "execution_count": 1,
   "metadata": {},
   "outputs": [],
   "source": [
    "import pandas as pd\n",
    "import numpy as np\n",
    "import torch\n",
    "import torch.nn as nn #xây dựng mô hình\n",
    "from sklearn.utils import resample #tăng giảm các mẫu\n",
    "from sklearn.preprocessing import StandardScaler #quy đổi về cùng giá trị để so sánh\n",
    "from sklearn.model_selection import train_test_split #tách dữ liệu"
   ]
  },
  {
   "cell_type": "code",
   "execution_count": 2,
   "metadata": {},
   "outputs": [],
   "source": [
    "# đọc dữ liệu\n",
    "df = pd.read_csv('../DuLieuThucHanh/framingham.csv')"
   ]
  },
  {
   "cell_type": "code",
   "execution_count": 3,
   "metadata": {},
   "outputs": [
    {
     "name": "stdout",
     "output_type": "stream",
     "text": [
      "(4240, 16)\n",
      "Index(['male', 'age', 'education', 'currentSmoker', 'cigsPerDay', 'BPMeds',\n",
      "       'prevalentStroke', 'prevalentHyp', 'diabetes', 'totChol', 'sysBP',\n",
      "       'diaBP', 'BMI', 'heartRate', 'glucose', 'TenYearCHD'],\n",
      "      dtype='object')\n"
     ]
    },
    {
     "data": {
      "text/plain": [
       "male                 int64\n",
       "age                  int64\n",
       "education          float64\n",
       "currentSmoker        int64\n",
       "cigsPerDay         float64\n",
       "BPMeds             float64\n",
       "prevalentStroke      int64\n",
       "prevalentHyp         int64\n",
       "diabetes             int64\n",
       "totChol            float64\n",
       "sysBP              float64\n",
       "diaBP              float64\n",
       "BMI                float64\n",
       "heartRate          float64\n",
       "glucose            float64\n",
       "TenYearCHD           int64\n",
       "dtype: object"
      ]
     },
     "execution_count": 3,
     "metadata": {},
     "output_type": "execute_result"
    }
   ],
   "source": [
    "# xem số lượng dư liệu\n",
    "print(df.shape)\n",
    "# các tên các cột \n",
    "print(df.columns)\n",
    "# xem kiểu dữ liệu các cột\n",
    "df.dtypes"
   ]
  },
  {
   "cell_type": "code",
   "execution_count": 4,
   "metadata": {},
   "outputs": [
    {
     "data": {
      "text/plain": [
       "male                 0\n",
       "age                  0\n",
       "education          105\n",
       "currentSmoker        0\n",
       "cigsPerDay          29\n",
       "BPMeds              53\n",
       "prevalentStroke      0\n",
       "prevalentHyp         0\n",
       "diabetes             0\n",
       "totChol             50\n",
       "sysBP                0\n",
       "diaBP                0\n",
       "BMI                 19\n",
       "heartRate            1\n",
       "glucose            388\n",
       "TenYearCHD           0\n",
       "dtype: int64"
      ]
     },
     "execution_count": 4,
     "metadata": {},
     "output_type": "execute_result"
    }
   ],
   "source": [
    "# TIỀN XỬ LÝ DỮ LIỆU\n",
    "# hiện thị số giá trị null của từng trường\n",
    "df.isnull().sum()"
   ]
  },
  {
   "cell_type": "code",
   "execution_count": 5,
   "metadata": {},
   "outputs": [],
   "source": [
    "# xóa các giá trị null đó đi\n",
    "final_df = df.dropna()"
   ]
  },
  {
   "cell_type": "code",
   "execution_count": 6,
   "metadata": {},
   "outputs": [
    {
     "data": {
      "text/plain": [
       "0    3101\n",
       "1     557\n",
       "Name: TenYearCHD, dtype: int64"
      ]
     },
     "execution_count": 6,
     "metadata": {},
     "output_type": "execute_result"
    }
   ],
   "source": [
    "# xem số lượng của mỗi lớp (1/0) để quyết định số dữ liệu lấy mẫu\n",
    "final_df[\"TenYearCHD\"].value_counts()\n"
   ]
  },
  {
   "cell_type": "code",
   "execution_count": 7,
   "metadata": {},
   "outputs": [],
   "source": [
    "# chia dữ liệu thành các lớp riêng biệt\n",
    "df_NoCHD = final_df[final_df['TenYearCHD']==0]\n",
    "df_CHD = final_df[final_df['TenYearCHD']==1] \n",
    "# tăng/giảm các mẫu trong mỗi lớp\n",
    "df_NoCHD_downsampled = resample(df_NoCHD, replace=True, n_samples=1800, random_state=123)\n",
    "df_CHD_upsampled = resample(df_CHD, replace=True, n_samples=1800, random_state=123)\n"
   ]
  },
  {
   "cell_type": "code",
   "execution_count": 8,
   "metadata": {},
   "outputs": [
    {
     "data": {
      "text/html": [
       "<div>\n",
       "<style scoped>\n",
       "    .dataframe tbody tr th:only-of-type {\n",
       "        vertical-align: middle;\n",
       "    }\n",
       "\n",
       "    .dataframe tbody tr th {\n",
       "        vertical-align: top;\n",
       "    }\n",
       "\n",
       "    .dataframe thead th {\n",
       "        text-align: right;\n",
       "    }\n",
       "</style>\n",
       "<table border=\"1\" class=\"dataframe\">\n",
       "  <thead>\n",
       "    <tr style=\"text-align: right;\">\n",
       "      <th></th>\n",
       "      <th>male</th>\n",
       "      <th>age</th>\n",
       "      <th>education</th>\n",
       "      <th>currentSmoker</th>\n",
       "      <th>cigsPerDay</th>\n",
       "      <th>BPMeds</th>\n",
       "      <th>prevalentStroke</th>\n",
       "      <th>prevalentHyp</th>\n",
       "      <th>diabetes</th>\n",
       "      <th>totChol</th>\n",
       "      <th>sysBP</th>\n",
       "      <th>diaBP</th>\n",
       "      <th>BMI</th>\n",
       "      <th>heartRate</th>\n",
       "      <th>glucose</th>\n",
       "      <th>TenYearCHD</th>\n",
       "    </tr>\n",
       "  </thead>\n",
       "  <tbody>\n",
       "    <tr>\n",
       "      <th>3906</th>\n",
       "      <td>0</td>\n",
       "      <td>47</td>\n",
       "      <td>3.0</td>\n",
       "      <td>0</td>\n",
       "      <td>0.0</td>\n",
       "      <td>0.0</td>\n",
       "      <td>0</td>\n",
       "      <td>0</td>\n",
       "      <td>0</td>\n",
       "      <td>230.0</td>\n",
       "      <td>137.0</td>\n",
       "      <td>79.0</td>\n",
       "      <td>27.13</td>\n",
       "      <td>75.0</td>\n",
       "      <td>76.0</td>\n",
       "      <td>1</td>\n",
       "    </tr>\n",
       "    <tr>\n",
       "      <th>2803</th>\n",
       "      <td>1</td>\n",
       "      <td>62</td>\n",
       "      <td>1.0</td>\n",
       "      <td>0</td>\n",
       "      <td>0.0</td>\n",
       "      <td>0.0</td>\n",
       "      <td>0</td>\n",
       "      <td>1</td>\n",
       "      <td>0</td>\n",
       "      <td>191.0</td>\n",
       "      <td>156.0</td>\n",
       "      <td>91.0</td>\n",
       "      <td>31.20</td>\n",
       "      <td>68.0</td>\n",
       "      <td>75.0</td>\n",
       "      <td>1</td>\n",
       "    </tr>\n",
       "    <tr>\n",
       "      <th>2930</th>\n",
       "      <td>0</td>\n",
       "      <td>57</td>\n",
       "      <td>1.0</td>\n",
       "      <td>1</td>\n",
       "      <td>43.0</td>\n",
       "      <td>0.0</td>\n",
       "      <td>0</td>\n",
       "      <td>1</td>\n",
       "      <td>0</td>\n",
       "      <td>283.0</td>\n",
       "      <td>207.5</td>\n",
       "      <td>118.0</td>\n",
       "      <td>38.61</td>\n",
       "      <td>100.0</td>\n",
       "      <td>83.0</td>\n",
       "      <td>1</td>\n",
       "    </tr>\n",
       "    <tr>\n",
       "      <th>2469</th>\n",
       "      <td>1</td>\n",
       "      <td>48</td>\n",
       "      <td>4.0</td>\n",
       "      <td>1</td>\n",
       "      <td>20.0</td>\n",
       "      <td>0.0</td>\n",
       "      <td>0</td>\n",
       "      <td>1</td>\n",
       "      <td>0</td>\n",
       "      <td>259.0</td>\n",
       "      <td>135.0</td>\n",
       "      <td>90.0</td>\n",
       "      <td>20.72</td>\n",
       "      <td>102.0</td>\n",
       "      <td>81.0</td>\n",
       "      <td>1</td>\n",
       "    </tr>\n",
       "    <tr>\n",
       "      <th>656</th>\n",
       "      <td>1</td>\n",
       "      <td>51</td>\n",
       "      <td>1.0</td>\n",
       "      <td>1</td>\n",
       "      <td>20.0</td>\n",
       "      <td>0.0</td>\n",
       "      <td>0</td>\n",
       "      <td>0</td>\n",
       "      <td>0</td>\n",
       "      <td>243.0</td>\n",
       "      <td>130.0</td>\n",
       "      <td>86.5</td>\n",
       "      <td>29.86</td>\n",
       "      <td>85.0</td>\n",
       "      <td>74.0</td>\n",
       "      <td>1</td>\n",
       "    </tr>\n",
       "    <tr>\n",
       "      <th>...</th>\n",
       "      <td>...</td>\n",
       "      <td>...</td>\n",
       "      <td>...</td>\n",
       "      <td>...</td>\n",
       "      <td>...</td>\n",
       "      <td>...</td>\n",
       "      <td>...</td>\n",
       "      <td>...</td>\n",
       "      <td>...</td>\n",
       "      <td>...</td>\n",
       "      <td>...</td>\n",
       "      <td>...</td>\n",
       "      <td>...</td>\n",
       "      <td>...</td>\n",
       "      <td>...</td>\n",
       "      <td>...</td>\n",
       "    </tr>\n",
       "    <tr>\n",
       "      <th>2528</th>\n",
       "      <td>1</td>\n",
       "      <td>65</td>\n",
       "      <td>2.0</td>\n",
       "      <td>0</td>\n",
       "      <td>0.0</td>\n",
       "      <td>0.0</td>\n",
       "      <td>0</td>\n",
       "      <td>0</td>\n",
       "      <td>1</td>\n",
       "      <td>238.0</td>\n",
       "      <td>122.0</td>\n",
       "      <td>81.0</td>\n",
       "      <td>23.95</td>\n",
       "      <td>67.0</td>\n",
       "      <td>150.0</td>\n",
       "      <td>1</td>\n",
       "    </tr>\n",
       "    <tr>\n",
       "      <th>2343</th>\n",
       "      <td>1</td>\n",
       "      <td>37</td>\n",
       "      <td>4.0</td>\n",
       "      <td>0</td>\n",
       "      <td>0.0</td>\n",
       "      <td>0.0</td>\n",
       "      <td>0</td>\n",
       "      <td>0</td>\n",
       "      <td>0</td>\n",
       "      <td>266.0</td>\n",
       "      <td>110.0</td>\n",
       "      <td>72.5</td>\n",
       "      <td>26.09</td>\n",
       "      <td>77.0</td>\n",
       "      <td>73.0</td>\n",
       "      <td>1</td>\n",
       "    </tr>\n",
       "    <tr>\n",
       "      <th>3077</th>\n",
       "      <td>0</td>\n",
       "      <td>67</td>\n",
       "      <td>1.0</td>\n",
       "      <td>0</td>\n",
       "      <td>0.0</td>\n",
       "      <td>0.0</td>\n",
       "      <td>0</td>\n",
       "      <td>0</td>\n",
       "      <td>0</td>\n",
       "      <td>223.0</td>\n",
       "      <td>111.0</td>\n",
       "      <td>73.0</td>\n",
       "      <td>27.89</td>\n",
       "      <td>90.0</td>\n",
       "      <td>63.0</td>\n",
       "      <td>1</td>\n",
       "    </tr>\n",
       "    <tr>\n",
       "      <th>2460</th>\n",
       "      <td>1</td>\n",
       "      <td>59</td>\n",
       "      <td>2.0</td>\n",
       "      <td>0</td>\n",
       "      <td>0.0</td>\n",
       "      <td>0.0</td>\n",
       "      <td>0</td>\n",
       "      <td>0</td>\n",
       "      <td>0</td>\n",
       "      <td>299.0</td>\n",
       "      <td>120.5</td>\n",
       "      <td>78.0</td>\n",
       "      <td>25.45</td>\n",
       "      <td>60.0</td>\n",
       "      <td>100.0</td>\n",
       "      <td>1</td>\n",
       "    </tr>\n",
       "    <tr>\n",
       "      <th>2125</th>\n",
       "      <td>1</td>\n",
       "      <td>58</td>\n",
       "      <td>1.0</td>\n",
       "      <td>1</td>\n",
       "      <td>20.0</td>\n",
       "      <td>0.0</td>\n",
       "      <td>0</td>\n",
       "      <td>0</td>\n",
       "      <td>0</td>\n",
       "      <td>200.0</td>\n",
       "      <td>136.0</td>\n",
       "      <td>88.0</td>\n",
       "      <td>26.25</td>\n",
       "      <td>75.0</td>\n",
       "      <td>73.0</td>\n",
       "      <td>1</td>\n",
       "    </tr>\n",
       "  </tbody>\n",
       "</table>\n",
       "<p>1800 rows × 16 columns</p>\n",
       "</div>"
      ],
      "text/plain": [
       "      male  age  education  currentSmoker  cigsPerDay  BPMeds  \\\n",
       "3906     0   47        3.0              0         0.0     0.0   \n",
       "2803     1   62        1.0              0         0.0     0.0   \n",
       "2930     0   57        1.0              1        43.0     0.0   \n",
       "2469     1   48        4.0              1        20.0     0.0   \n",
       "656      1   51        1.0              1        20.0     0.0   \n",
       "...    ...  ...        ...            ...         ...     ...   \n",
       "2528     1   65        2.0              0         0.0     0.0   \n",
       "2343     1   37        4.0              0         0.0     0.0   \n",
       "3077     0   67        1.0              0         0.0     0.0   \n",
       "2460     1   59        2.0              0         0.0     0.0   \n",
       "2125     1   58        1.0              1        20.0     0.0   \n",
       "\n",
       "      prevalentStroke  prevalentHyp  diabetes  totChol  sysBP  diaBP    BMI  \\\n",
       "3906                0             0         0    230.0  137.0   79.0  27.13   \n",
       "2803                0             1         0    191.0  156.0   91.0  31.20   \n",
       "2930                0             1         0    283.0  207.5  118.0  38.61   \n",
       "2469                0             1         0    259.0  135.0   90.0  20.72   \n",
       "656                 0             0         0    243.0  130.0   86.5  29.86   \n",
       "...               ...           ...       ...      ...    ...    ...    ...   \n",
       "2528                0             0         1    238.0  122.0   81.0  23.95   \n",
       "2343                0             0         0    266.0  110.0   72.5  26.09   \n",
       "3077                0             0         0    223.0  111.0   73.0  27.89   \n",
       "2460                0             0         0    299.0  120.5   78.0  25.45   \n",
       "2125                0             0         0    200.0  136.0   88.0  26.25   \n",
       "\n",
       "      heartRate  glucose  TenYearCHD  \n",
       "3906       75.0     76.0           1  \n",
       "2803       68.0     75.0           1  \n",
       "2930      100.0     83.0           1  \n",
       "2469      102.0     81.0           1  \n",
       "656        85.0     74.0           1  \n",
       "...         ...      ...         ...  \n",
       "2528       67.0    150.0           1  \n",
       "2343       77.0     73.0           1  \n",
       "3077       90.0     63.0           1  \n",
       "2460       60.0    100.0           1  \n",
       "2125       75.0     73.0           1  \n",
       "\n",
       "[1800 rows x 16 columns]"
      ]
     },
     "execution_count": 8,
     "metadata": {},
     "output_type": "execute_result"
    }
   ],
   "source": [
    "df_CHD_upsampled"
   ]
  },
  {
   "cell_type": "code",
   "execution_count": 9,
   "metadata": {},
   "outputs": [
    {
     "data": {
      "text/plain": [
       "0    1800\n",
       "1    1800\n",
       "Name: TenYearCHD, dtype: int64"
      ]
     },
     "execution_count": 9,
     "metadata": {},
     "output_type": "execute_result"
    }
   ],
   "source": [
    "# nối các lớp lại với nhau\n",
    "df2 = pd.concat([df_NoCHD_downsampled, df_CHD_upsampled])\n",
    "df2['TenYearCHD'].value_counts()"
   ]
  },
  {
   "cell_type": "code",
   "execution_count": 10,
   "metadata": {},
   "outputs": [
    {
     "name": "stderr",
     "output_type": "stream",
     "text": [
      "c:\\Users\\ADMIN\\AppData\\Local\\Programs\\Python\\Python311\\Lib\\site-packages\\sklearn\\base.py:420: UserWarning: X does not have valid feature names, but StandardScaler was fitted with feature names\n",
      "  warnings.warn(\n"
     ]
    }
   ],
   "source": [
    "# bỏ trường biến phụ thuộc, tách biến phụ thuộc ra biến độc lập\n",
    "X = df2.iloc[:,:-1]\n",
    "# StandardScaler() dùng để quy đổi tỷ lệ các giá trị khác nhau để so sánh\n",
    "sc = StandardScaler()\n",
    "X = sc.fit_transform(X)\n",
    "X = sc.transform(X)\n",
    "#xáo trộn các hàng giúp tăng độ ngẫu nhiên\n",
    "df2 = df2.sample(frac=1).reset_index(drop=True)\n",
    "# cột đầu ra: biến phụ thuộc\n",
    "Y  = df2['TenYearCHD']\n"
   ]
  },
  {
   "cell_type": "code",
   "execution_count": 11,
   "metadata": {},
   "outputs": [
    {
     "name": "stdout",
     "output_type": "stream",
     "text": [
      "1260\n",
      "1260\n"
     ]
    }
   ],
   "source": [
    "# tách dữ liệu thành tập xây dựng và tập kiểm tra\n",
    "X_train, X_test, y_train, y_test = train_test_split(X, Y, test_size=0.3, random_state=42, stratify=Y)\n",
    "print((y_train == 1).sum())\n",
    "print((y_train == 0).sum())"
   ]
  },
  {
   "cell_type": "code",
   "execution_count": 12,
   "metadata": {},
   "outputs": [],
   "source": [
    "X_train = torch.from_numpy(X_train.astype(np.float32))\n",
    "X_test = torch.from_numpy(X_test.astype(np.float32))\n",
    "y_train = torch.from_numpy(y_train.values.astype(np.float32))\n",
    "y_test = torch.from_numpy(y_test.values.astype(np.float32))"
   ]
  },
  {
   "cell_type": "code",
   "execution_count": 13,
   "metadata": {},
   "outputs": [
    {
     "name": "stdout",
     "output_type": "stream",
     "text": [
      "<class 'torch.Tensor'>\n",
      "<class 'torch.Tensor'>\n",
      "<class 'torch.Tensor'>\n",
      "<class 'torch.Tensor'>\n"
     ]
    }
   ],
   "source": [
    "print(type(X_train))\n",
    "print(type(X_test))\n",
    "print(type(y_train))\n",
    "print(type(y_test))"
   ]
  },
  {
   "cell_type": "code",
   "execution_count": 14,
   "metadata": {},
   "outputs": [],
   "source": [
    "# đưa tensor đầu ra về dạng vector cột để đảm bảo tính nhất quán về kích thước và kiểu dữ liệu\n",
    "y_train = y_train.view(y_train.shape[0],1)\n",
    "y_test = y_test.view(y_test.shape[0],1)"
   ]
  },
  {
   "cell_type": "code",
   "execution_count": 15,
   "metadata": {},
   "outputs": [],
   "source": [
    "# xây dựng mô hình\n",
    "class LogisticRegression(nn.Module):\n",
    "    def __init__(self, n_input_features):\n",
    "        super(LogisticRegression, self).__init__()\n",
    "        self.linear = nn.Linear(n_input_features,1)\n",
    "    def forward(self, x):\n",
    "        y_pred = torch.sigmoid(self.linear(x))\n",
    "        return y_pred"
   ]
  },
  {
   "cell_type": "code",
   "execution_count": 16,
   "metadata": {},
   "outputs": [],
   "source": [
    "model = LogisticRegression(X_train.shape[1])"
   ]
  },
  {
   "cell_type": "code",
   "execution_count": 17,
   "metadata": {},
   "outputs": [],
   "source": [
    "num_epochs = 500                                        \n",
    "# Traning the model for large number of epochs to see better results  \n",
    "learning_rate = 0.0001                               \n",
    "criterion = nn.BCELoss()                                \n",
    "# We are working on lgistic regression so using Binary Cross Entropy\n",
    "optimizer = torch.optim.SGD(model.parameters(), lr=learning_rate)      \n",
    "# Using ADAM optimizer to find local minima  "
   ]
  },
  {
   "cell_type": "code",
   "execution_count": null,
   "metadata": {},
   "outputs": [],
   "source": []
  },
  {
   "cell_type": "code",
   "execution_count": 18,
   "metadata": {},
   "outputs": [
    {
     "name": "stdout",
     "output_type": "stream",
     "text": [
      "epoch: 20, loss = 1.2740\n",
      "epoch: 40, loss = 1.2719\n",
      "epoch: 60, loss = 1.2701\n",
      "epoch: 80, loss = 1.2686\n",
      "epoch: 100, loss = 1.2672\n",
      "epoch: 120, loss = 1.2659\n",
      "epoch: 140, loss = 1.2648\n",
      "epoch: 160, loss = 1.2638\n",
      "epoch: 180, loss = 1.2628\n",
      "epoch: 200, loss = 1.2619\n",
      "epoch: 220, loss = 1.2611\n",
      "epoch: 240, loss = 1.2603\n",
      "epoch: 260, loss = 1.2595\n",
      "epoch: 280, loss = 1.2587\n",
      "epoch: 300, loss = 1.2580\n",
      "epoch: 320, loss = 1.2573\n",
      "epoch: 340, loss = 1.2566\n",
      "epoch: 360, loss = 1.2559\n",
      "epoch: 380, loss = 1.2553\n",
      "epoch: 400, loss = 1.2546\n",
      "epoch: 420, loss = 1.2540\n",
      "epoch: 440, loss = 1.2533\n",
      "epoch: 460, loss = 1.2527\n",
      "epoch: 480, loss = 1.2520\n",
      "epoch: 500, loss = 1.2514\n"
     ]
    }
   ],
   "source": [
    "for epoch in range(num_epochs):\n",
    "    y_pred = model(X_train)\n",
    "    loss = criterion(y_pred, y_train)             \n",
    "    loss.backward()\n",
    "    optimizer.step()\n",
    "    optimizer.zero_grad()\n",
    "    if (epoch+1) % 20 == 0:                                         \n",
    "        # printing loss values on every 10 epochs to keep track\n",
    "        print(f'epoch: {epoch+1}, loss = {loss.item():.4f}')"
   ]
  },
  {
   "cell_type": "code",
   "execution_count": 19,
   "metadata": {},
   "outputs": [
    {
     "name": "stdout",
     "output_type": "stream",
     "text": [
      "accuracy: 0.5065\n"
     ]
    }
   ],
   "source": [
    "\n",
    "with torch.no_grad():\n",
    "    y_predicted = model(X_test)\n",
    "    y_predicted_cls = y_predicted.round()\n",
    "    acc = y_predicted_cls.eq(y_test).sum() / float(y_test.shape[0])\n",
    "    print(f'accuracy: {acc.item():.4f}')"
   ]
  },
  {
   "cell_type": "code",
   "execution_count": 20,
   "metadata": {},
   "outputs": [
    {
     "name": "stdout",
     "output_type": "stream",
     "text": [
      "              precision    recall  f1-score   support\n",
      "\n",
      "         0.0       0.51      0.57      0.54       540\n",
      "         1.0       0.51      0.44      0.47       540\n",
      "\n",
      "    accuracy                           0.51      1080\n",
      "   macro avg       0.51      0.51      0.50      1080\n",
      "weighted avg       0.51      0.51      0.50      1080\n",
      "\n"
     ]
    }
   ],
   "source": [
    "from sklearn.metrics import classification_report\n",
    "# báo cáo phân loại: tổng hợp các chỉ số đánh giá hiệu suất của mô hình\n",
    "print(classification_report(y_test, y_predicted_cls))"
   ]
  },
  {
   "cell_type": "code",
   "execution_count": 21,
   "metadata": {},
   "outputs": [
    {
     "name": "stdout",
     "output_type": "stream",
     "text": [
      "[[307 233]\n",
      " [300 240]]\n"
     ]
    }
   ],
   "source": [
    "from sklearn.metrics import confusion_matrix\n",
    "# ma tran nham lan\n",
    "confusion_matrix = confusion_matrix(y_test, y_predicted_cls)\n",
    "print(confusion_matrix)"
   ]
  },
  {
   "cell_type": "code",
   "execution_count": 22,
   "metadata": {},
   "outputs": [
    {
     "name": "stdout",
     "output_type": "stream",
     "text": [
      "0.0\n"
     ]
    }
   ],
   "source": [
    "# Chuyển dữ liệu mới thành tensor\n",
    "male = 0\n",
    "age = 61\n",
    "education = 3\n",
    "currentSmoker= 1\n",
    "cigsPerDay= 30\n",
    "BPMeds= 0\n",
    "prevalentStroke= 0\n",
    "prevalentHyp= 1\n",
    "diabetes = 0\n",
    "totChol = 225\n",
    "sysBP= 150\n",
    "diaBP = 95\n",
    "BMIm = 28.58\n",
    "heartRate  = 65\n",
    "glucose = 103\n",
    "\n",
    "\n",
    "new_data = [male ,age,education ,currentSmoker,cigsPerDay,BPMeds,prevalentStroke,prevalentHyp,diabetes ,totChol ,sysBP,diaBP ,BMIm ,heartRate  ,glucose ]\n",
    "new_data_tensor = torch.tensor(new_data, dtype=torch.float32).unsqueeze(0)\n",
    "\n",
    "# Dự đoán đầu ra cho dữ liệu mới\n",
    "with torch.no_grad():\n",
    "    output = model(new_data_tensor)\n",
    "    predicted = output.round()\n",
    "    print(predicted.item())"
   ]
  }
 ],
 "metadata": {
  "kernelspec": {
   "display_name": "Python 3",
   "language": "python",
   "name": "python3"
  },
  "language_info": {
   "codemirror_mode": {
    "name": "ipython",
    "version": 3
   },
   "file_extension": ".py",
   "mimetype": "text/x-python",
   "name": "python",
   "nbconvert_exporter": "python",
   "pygments_lexer": "ipython3",
   "version": "3.11.1"
  },
  "orig_nbformat": 4,
  "vscode": {
   "interpreter": {
    "hash": "5f80c455da1dc101d9f66a16923589bd6dbb3429340af280f1efed2f72025e97"
   }
  }
 },
 "nbformat": 4,
 "nbformat_minor": 2
}
