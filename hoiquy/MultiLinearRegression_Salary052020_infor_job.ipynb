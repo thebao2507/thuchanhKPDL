{
 "cells": [
  {
   "cell_type": "code",
   "execution_count": 2,
   "metadata": {},
   "outputs": [],
   "source": [
    "#Multiple linear regression\n",
    "import pandas as pd\n",
    "import numpy as np\n",
    "import matplotlib.pyplot as plt\n",
    "import seaborn as sns\n",
    "from sklearn import linear_model"
   ]
  },
  {
   "cell_type": "code",
   "execution_count": 3,
   "metadata": {},
   "outputs": [],
   "source": [
    "#Read dataset\n",
    "data=pd.read_excel('.xlsx')"
   ]
  },
  {
   "cell_type": "code",
   "execution_count": 47,
   "metadata": {},
   "outputs": [
    {
     "data": {
      "text/html": [
       "<div>\n",
       "<style scoped>\n",
       "    .dataframe tbody tr th:only-of-type {\n",
       "        vertical-align: middle;\n",
       "    }\n",
       "\n",
       "    .dataframe tbody tr th {\n",
       "        vertical-align: top;\n",
       "    }\n",
       "\n",
       "    .dataframe thead th {\n",
       "        text-align: right;\n",
       "    }\n",
       "</style>\n",
       "<table border=\"1\" class=\"dataframe\">\n",
       "  <thead>\n",
       "    <tr style=\"text-align: right;\">\n",
       "      <th></th>\n",
       "      <th>youtube</th>\n",
       "      <th>facebook</th>\n",
       "      <th>newspaper</th>\n",
       "      <th>sales</th>\n",
       "    </tr>\n",
       "  </thead>\n",
       "  <tbody>\n",
       "    <tr>\n",
       "      <td>0</td>\n",
       "      <td>276.12</td>\n",
       "      <td>45.36</td>\n",
       "      <td>83.04</td>\n",
       "      <td>26.52</td>\n",
       "    </tr>\n",
       "    <tr>\n",
       "      <td>1</td>\n",
       "      <td>53.40</td>\n",
       "      <td>47.16</td>\n",
       "      <td>54.12</td>\n",
       "      <td>12.48</td>\n",
       "    </tr>\n",
       "    <tr>\n",
       "      <td>2</td>\n",
       "      <td>20.64</td>\n",
       "      <td>55.08</td>\n",
       "      <td>83.16</td>\n",
       "      <td>11.16</td>\n",
       "    </tr>\n",
       "    <tr>\n",
       "      <td>3</td>\n",
       "      <td>181.80</td>\n",
       "      <td>49.56</td>\n",
       "      <td>70.20</td>\n",
       "      <td>22.20</td>\n",
       "    </tr>\n",
       "    <tr>\n",
       "      <td>4</td>\n",
       "      <td>216.96</td>\n",
       "      <td>12.96</td>\n",
       "      <td>70.08</td>\n",
       "      <td>15.48</td>\n",
       "    </tr>\n",
       "    <tr>\n",
       "      <td>...</td>\n",
       "      <td>...</td>\n",
       "      <td>...</td>\n",
       "      <td>...</td>\n",
       "      <td>...</td>\n",
       "    </tr>\n",
       "    <tr>\n",
       "      <td>195</td>\n",
       "      <td>45.84</td>\n",
       "      <td>4.44</td>\n",
       "      <td>16.56</td>\n",
       "      <td>9.12</td>\n",
       "    </tr>\n",
       "    <tr>\n",
       "      <td>196</td>\n",
       "      <td>113.04</td>\n",
       "      <td>5.88</td>\n",
       "      <td>9.72</td>\n",
       "      <td>11.64</td>\n",
       "    </tr>\n",
       "    <tr>\n",
       "      <td>197</td>\n",
       "      <td>212.40</td>\n",
       "      <td>11.16</td>\n",
       "      <td>7.68</td>\n",
       "      <td>15.36</td>\n",
       "    </tr>\n",
       "    <tr>\n",
       "      <td>198</td>\n",
       "      <td>340.32</td>\n",
       "      <td>50.40</td>\n",
       "      <td>79.44</td>\n",
       "      <td>30.60</td>\n",
       "    </tr>\n",
       "    <tr>\n",
       "      <td>199</td>\n",
       "      <td>278.52</td>\n",
       "      <td>10.32</td>\n",
       "      <td>10.44</td>\n",
       "      <td>16.08</td>\n",
       "    </tr>\n",
       "  </tbody>\n",
       "</table>\n",
       "<p>200 rows × 4 columns</p>\n",
       "</div>"
      ],
      "text/plain": [
       "     youtube  facebook  newspaper  sales\n",
       "0     276.12     45.36      83.04  26.52\n",
       "1      53.40     47.16      54.12  12.48\n",
       "2      20.64     55.08      83.16  11.16\n",
       "3     181.80     49.56      70.20  22.20\n",
       "4     216.96     12.96      70.08  15.48\n",
       "..       ...       ...        ...    ...\n",
       "195    45.84      4.44      16.56   9.12\n",
       "196   113.04      5.88       9.72  11.64\n",
       "197   212.40     11.16       7.68  15.36\n",
       "198   340.32     50.40      79.44  30.60\n",
       "199   278.52     10.32      10.44  16.08\n",
       "\n",
       "[200 rows x 4 columns]"
      ]
     },
     "execution_count": 47,
     "metadata": {},
     "output_type": "execute_result"
    }
   ],
   "source": [
    "data"
   ]
  },
  {
   "cell_type": "code",
   "execution_count": 48,
   "metadata": {},
   "outputs": [
    {
     "data": {
      "image/png": "[encoded data removed]",
      "text/plain": [
       "<Figure size 432x288 with 1 Axes>"
      ]
     },
     "metadata": {
      "needs_background": "light"
     },
     "output_type": "display_data"
    }
   ],
   "source": [
    "data.plot(kind='scatter', x='youtube', y='sales')\n",
    "plt.show()"
   ]
  },
  {
   "cell_type": "code",
   "execution_count": 49,
   "metadata": {},
   "outputs": [
    {
     "data": {
      "image/png": "[encoded data removed]",
      "text/plain": [
       "<Figure size 432x288 with 1 Axes>"
      ]
     },
     "metadata": {
      "needs_background": "light"
     },
     "output_type": "display_data"
    }
   ],
   "source": [
    "data.plot(kind='scatter', x='facebook', y='sales')\n",
    "plt.show()"
   ]
  },
  {
   "cell_type": "code",
   "execution_count": 50,
   "metadata": {},
   "outputs": [
    {
     "data": {
      "image/png": "[encoded data removed]",
      "text/plain": [
       "<Figure size 432x288 with 1 Axes>"
      ]
     },
     "metadata": {
      "needs_background": "light"
     },
     "output_type": "display_data"
    }
   ],
   "source": [
    "data.plot(kind='scatter', x='newspaper', y='sales')\n",
    "plt.show()"
   ]
  },
  {
   "cell_type": "code",
   "execution_count": 77,
   "metadata": {},
   "outputs": [
    {
     "name": "stderr",
     "output_type": "stream",
     "text": [
      "C:\\Users\\PC\\Anaconda3\\lib\\site-packages\\seaborn\\axisgrid.py:2065: UserWarning: The `size` parameter has been renamed to `height`; pleaes update your code.\n",
      "  warnings.warn(msg, UserWarning)\n"
     ]
    },
    {
     "data": {
      "text/plain": [
       "<seaborn.axisgrid.PairGrid at 0x273448f6b08>"
      ]
     },
     "execution_count": 77,
     "metadata": {},
     "output_type": "execute_result"
    },
    {
     "data": {
      "image/png": "[encoded data removed]",
      "text/plain": [
       "<Figure size 1058.4x504 with 3 Axes>"
      ]
     },
     "metadata": {
      "needs_background": "light"
     },
     "output_type": "display_data"
    }
   ],
   "source": [
    "# visualize the relationship between the features and the response using scatterplots\n",
    "import seaborn as sns\n",
    "sns.pairplot(data, x_vars=['youtube','facebook','newspaper'], y_vars='sales', size=7, aspect=0.7)"
   ]
  },
  {
   "cell_type": "code",
   "execution_count": 51,
   "metadata": {},
   "outputs": [
    {
     "data": {
      "text/html": [
       "<div>\n",
       "<style scoped>\n",
       "    .dataframe tbody tr th:only-of-type {\n",
       "        vertical-align: middle;\n",
       "    }\n",
       "\n",
       "    .dataframe tbody tr th {\n",
       "        vertical-align: top;\n",
       "    }\n",
       "\n",
       "    .dataframe thead th {\n",
       "        text-align: right;\n",
       "    }\n",
       "</style>\n",
       "<table border=\"1\" class=\"dataframe\">\n",
       "  <thead>\n",
       "    <tr style=\"text-align: right;\">\n",
       "      <th></th>\n",
       "      <th>youtube</th>\n",
       "      <th>facebook</th>\n",
       "      <th>newspaper</th>\n",
       "      <th>sales</th>\n",
       "    </tr>\n",
       "  </thead>\n",
       "  <tbody>\n",
       "    <tr>\n",
       "      <td>youtube</td>\n",
       "      <td>1.000000</td>\n",
       "      <td>0.054809</td>\n",
       "      <td>0.056648</td>\n",
       "      <td>0.782224</td>\n",
       "    </tr>\n",
       "    <tr>\n",
       "      <td>facebook</td>\n",
       "      <td>0.054809</td>\n",
       "      <td>1.000000</td>\n",
       "      <td>0.354104</td>\n",
       "      <td>0.576223</td>\n",
       "    </tr>\n",
       "    <tr>\n",
       "      <td>newspaper</td>\n",
       "      <td>0.056648</td>\n",
       "      <td>0.354104</td>\n",
       "      <td>1.000000</td>\n",
       "      <td>0.228299</td>\n",
       "    </tr>\n",
       "    <tr>\n",
       "      <td>sales</td>\n",
       "      <td>0.782224</td>\n",
       "      <td>0.576223</td>\n",
       "      <td>0.228299</td>\n",
       "      <td>1.000000</td>\n",
       "    </tr>\n",
       "  </tbody>\n",
       "</table>\n",
       "</div>"
      ],
      "text/plain": [
       "            youtube  facebook  newspaper     sales\n",
       "youtube    1.000000  0.054809   0.056648  0.782224\n",
       "facebook   0.054809  1.000000   0.354104  0.576223\n",
       "newspaper  0.056648  0.354104   1.000000  0.228299\n",
       "sales      0.782224  0.576223   0.228299  1.000000"
      ]
     },
     "execution_count": 51,
     "metadata": {},
     "output_type": "execute_result"
    }
   ],
   "source": [
    "data.corr()"
   ]
  },
  {
   "cell_type": "code",
   "execution_count": 52,
   "metadata": {},
   "outputs": [
    {
     "data": {
      "image/png": "[encoded data removed]",
      "text/plain": [
       "<Figure size 720x504 with 2 Axes>"
      ]
     },
     "metadata": {
      "needs_background": "light"
     },
     "output_type": "display_data"
    }
   ],
   "source": [
    "#Plotting heat map\n",
    "fig=plt.gcf()\n",
    "fig.set_size_inches(10,7)\n",
    "fig=sns.heatmap(data.corr(),annot=True,cmap='cubehelix',linewidths=1,linecolor='k',square=True,mask=False, vmin=-1, vmax=1,cbar_kws={\"orientation\": \"vertical\"},cbar=True)"
   ]
  },
  {
   "cell_type": "code",
   "execution_count": 53,
   "metadata": {},
   "outputs": [],
   "source": [
    "#X=data[['youtube','facebook','newspaper']] #independent variables\n",
    "X=data.drop('sales',axis=1)\n",
    "Y=data['sales'] #dependent variable"
   ]
  },
  {
   "cell_type": "code",
   "execution_count": 54,
   "metadata": {},
   "outputs": [],
   "source": [
    "from sklearn.linear_model import LinearRegression\n",
    "lm=LinearRegression()\n",
    "sale_model=lm.fit(X,Y)"
   ]
  },
  {
   "cell_type": "code",
   "execution_count": 55,
   "metadata": {},
   "outputs": [
    {
     "name": "stdout",
     "output_type": "stream",
     "text": [
      "R square: 0.8972106381789522\n",
      "Slope: [ 0.04576465  0.18853002 -0.00103749]\n",
      "intercept: 3.5266672433512944\n"
     ]
    }
   ],
   "source": [
    "#Parameters of the model\n",
    "print('R square:', sale_model.score(X, Y))\n",
    "print('Slope:', sale_model.coef_)\n",
    "print('intercept:',sale_model.intercept_ )"
   ]
  },
  {
   "cell_type": "code",
   "execution_count": 56,
   "metadata": {},
   "outputs": [
    {
     "name": "stdout",
     "output_type": "stream",
     "text": [
      "Estimate interceptv coefficient: 3.5266672433512944\n"
     ]
    }
   ],
   "source": [
    "print ('Estimate interceptv coefficient:', sale_model.intercept_)"
   ]
  },
  {
   "cell_type": "code",
   "execution_count": 57,
   "metadata": {},
   "outputs": [
    {
     "name": "stdout",
     "output_type": "stream",
     "text": [
      "Number of Coefficients: 3\n"
     ]
    }
   ],
   "source": [
    "print('Number of Coefficients:', len(sale_model.coef_))"
   ]
  },
  {
   "cell_type": "code",
   "execution_count": 58,
   "metadata": {},
   "outputs": [
    {
     "data": {
      "text/html": [
       "<div>\n",
       "<style scoped>\n",
       "    .dataframe tbody tr th:only-of-type {\n",
       "        vertical-align: middle;\n",
       "    }\n",
       "\n",
       "    .dataframe tbody tr th {\n",
       "        vertical-align: top;\n",
       "    }\n",
       "\n",
       "    .dataframe thead th {\n",
       "        text-align: right;\n",
       "    }\n",
       "</style>\n",
       "<table border=\"1\" class=\"dataframe\">\n",
       "  <thead>\n",
       "    <tr style=\"text-align: right;\">\n",
       "      <th></th>\n",
       "      <th>0</th>\n",
       "    </tr>\n",
       "  </thead>\n",
       "  <tbody>\n",
       "    <tr>\n",
       "      <td>youtube</td>\n",
       "      <td>0.045765</td>\n",
       "    </tr>\n",
       "    <tr>\n",
       "      <td>facebook</td>\n",
       "      <td>0.188530</td>\n",
       "    </tr>\n",
       "    <tr>\n",
       "      <td>newspaper</td>\n",
       "      <td>-0.001037</td>\n",
       "    </tr>\n",
       "  </tbody>\n",
       "</table>\n",
       "</div>"
      ],
      "text/plain": [
       "                  0\n",
       "youtube    0.045765\n",
       "facebook   0.188530\n",
       "newspaper -0.001037"
      ]
     },
     "execution_count": 58,
     "metadata": {},
     "output_type": "execute_result"
    }
   ],
   "source": [
    "pd.DataFrame(sale_model.coef_, X.columns)"
   ]
  },
  {
   "cell_type": "code",
   "execution_count": 59,
   "metadata": {},
   "outputs": [
    {
     "data": {
      "text/plain": [
       "'\\nInterpretation\\nFrom the output above:\\nthe estimated regression line equation can be written as follow: \\nsales = 3.27 + 0.046*youtube + 0.19*facebook - 0.001*newspaper\\n'"
      ]
     },
     "execution_count": 59,
     "metadata": {},
     "output_type": "execute_result"
    }
   ],
   "source": [
    "\"\"\"\n",
    "Interpretation\n",
    "From the output above:\n",
    "the estimated regression line equation can be written as follow: \n",
    "sales = 3.27 + 0.046*youtube + 0.19*facebook - 0.001*newspaper\n",
    "\"\"\""
   ]
  },
  {
   "cell_type": "code",
   "execution_count": 60,
   "metadata": {},
   "outputs": [],
   "source": [
    "Y_pred=sale_model.predict(X)"
   ]
  },
  {
   "cell_type": "code",
   "execution_count": 61,
   "metadata": {},
   "outputs": [
    {
     "data": {
      "text/html": [
       "<div>\n",
       "<style scoped>\n",
       "    .dataframe tbody tr th:only-of-type {\n",
       "        vertical-align: middle;\n",
       "    }\n",
       "\n",
       "    .dataframe tbody tr th {\n",
       "        vertical-align: top;\n",
       "    }\n",
       "\n",
       "    .dataframe thead th {\n",
       "        text-align: right;\n",
       "    }\n",
       "</style>\n",
       "<table border=\"1\" class=\"dataframe\">\n",
       "  <thead>\n",
       "    <tr style=\"text-align: right;\">\n",
       "      <th></th>\n",
       "      <th>salse_predict</th>\n",
       "    </tr>\n",
       "  </thead>\n",
       "  <tbody>\n",
       "    <tr>\n",
       "      <td>0</td>\n",
       "      <td>24.628769</td>\n",
       "    </tr>\n",
       "    <tr>\n",
       "      <td>1</td>\n",
       "      <td>14.805426</td>\n",
       "    </tr>\n",
       "    <tr>\n",
       "      <td>2</td>\n",
       "      <td>14.769205</td>\n",
       "    </tr>\n",
       "    <tr>\n",
       "      <td>3</td>\n",
       "      <td>21.117395</td>\n",
       "    </tr>\n",
       "    <tr>\n",
       "      <td>4</td>\n",
       "      <td>15.826406</td>\n",
       "    </tr>\n",
       "    <tr>\n",
       "      <td>...</td>\n",
       "      <td>...</td>\n",
       "    </tr>\n",
       "    <tr>\n",
       "      <td>195</td>\n",
       "      <td>6.444411</td>\n",
       "    </tr>\n",
       "    <tr>\n",
       "      <td>196</td>\n",
       "      <td>9.798375</td>\n",
       "    </tr>\n",
       "    <tr>\n",
       "      <td>197</td>\n",
       "      <td>15.343105</td>\n",
       "    </tr>\n",
       "    <tr>\n",
       "      <td>198</td>\n",
       "      <td>28.520786</td>\n",
       "    </tr>\n",
       "    <tr>\n",
       "      <td>199</td>\n",
       "      <td>18.207835</td>\n",
       "    </tr>\n",
       "  </tbody>\n",
       "</table>\n",
       "<p>200 rows × 1 columns</p>\n",
       "</div>"
      ],
      "text/plain": [
       "     salse_predict\n",
       "0        24.628769\n",
       "1        14.805426\n",
       "2        14.769205\n",
       "3        21.117395\n",
       "4        15.826406\n",
       "..             ...\n",
       "195       6.444411\n",
       "196       9.798375\n",
       "197      15.343105\n",
       "198      28.520786\n",
       "199      18.207835\n",
       "\n",
       "[200 rows x 1 columns]"
      ]
     },
     "execution_count": 61,
     "metadata": {},
     "output_type": "execute_result"
    }
   ],
   "source": [
    "Y_pred=pd.DataFrame(Y_pred, columns=['salse_predict'])\n",
    "Y_pred"
   ]
  },
  {
   "cell_type": "code",
   "execution_count": 62,
   "metadata": {},
   "outputs": [
    {
     "data": {
      "text/html": [
       "<div>\n",
       "<style scoped>\n",
       "    .dataframe tbody tr th:only-of-type {\n",
       "        vertical-align: middle;\n",
       "    }\n",
       "\n",
       "    .dataframe tbody tr th {\n",
       "        vertical-align: top;\n",
       "    }\n",
       "\n",
       "    .dataframe thead th {\n",
       "        text-align: right;\n",
       "    }\n",
       "</style>\n",
       "<table border=\"1\" class=\"dataframe\">\n",
       "  <thead>\n",
       "    <tr style=\"text-align: right;\">\n",
       "      <th></th>\n",
       "      <th>youtube</th>\n",
       "      <th>facebook</th>\n",
       "      <th>newspaper</th>\n",
       "      <th>sales</th>\n",
       "      <th>salse_predict</th>\n",
       "    </tr>\n",
       "  </thead>\n",
       "  <tbody>\n",
       "    <tr>\n",
       "      <td>0</td>\n",
       "      <td>276.12</td>\n",
       "      <td>45.36</td>\n",
       "      <td>83.04</td>\n",
       "      <td>26.52</td>\n",
       "      <td>24.628769</td>\n",
       "    </tr>\n",
       "    <tr>\n",
       "      <td>1</td>\n",
       "      <td>53.40</td>\n",
       "      <td>47.16</td>\n",
       "      <td>54.12</td>\n",
       "      <td>12.48</td>\n",
       "      <td>14.805426</td>\n",
       "    </tr>\n",
       "    <tr>\n",
       "      <td>2</td>\n",
       "      <td>20.64</td>\n",
       "      <td>55.08</td>\n",
       "      <td>83.16</td>\n",
       "      <td>11.16</td>\n",
       "      <td>14.769205</td>\n",
       "    </tr>\n",
       "    <tr>\n",
       "      <td>3</td>\n",
       "      <td>181.80</td>\n",
       "      <td>49.56</td>\n",
       "      <td>70.20</td>\n",
       "      <td>22.20</td>\n",
       "      <td>21.117395</td>\n",
       "    </tr>\n",
       "    <tr>\n",
       "      <td>4</td>\n",
       "      <td>216.96</td>\n",
       "      <td>12.96</td>\n",
       "      <td>70.08</td>\n",
       "      <td>15.48</td>\n",
       "      <td>15.826406</td>\n",
       "    </tr>\n",
       "    <tr>\n",
       "      <td>...</td>\n",
       "      <td>...</td>\n",
       "      <td>...</td>\n",
       "      <td>...</td>\n",
       "      <td>...</td>\n",
       "      <td>...</td>\n",
       "    </tr>\n",
       "    <tr>\n",
       "      <td>195</td>\n",
       "      <td>45.84</td>\n",
       "      <td>4.44</td>\n",
       "      <td>16.56</td>\n",
       "      <td>9.12</td>\n",
       "      <td>6.444411</td>\n",
       "    </tr>\n",
       "    <tr>\n",
       "      <td>196</td>\n",
       "      <td>113.04</td>\n",
       "      <td>5.88</td>\n",
       "      <td>9.72</td>\n",
       "      <td>11.64</td>\n",
       "      <td>9.798375</td>\n",
       "    </tr>\n",
       "    <tr>\n",
       "      <td>197</td>\n",
       "      <td>212.40</td>\n",
       "      <td>11.16</td>\n",
       "      <td>7.68</td>\n",
       "      <td>15.36</td>\n",
       "      <td>15.343105</td>\n",
       "    </tr>\n",
       "    <tr>\n",
       "      <td>198</td>\n",
       "      <td>340.32</td>\n",
       "      <td>50.40</td>\n",
       "      <td>79.44</td>\n",
       "      <td>30.60</td>\n",
       "      <td>28.520786</td>\n",
       "    </tr>\n",
       "    <tr>\n",
       "      <td>199</td>\n",
       "      <td>278.52</td>\n",
       "      <td>10.32</td>\n",
       "      <td>10.44</td>\n",
       "      <td>16.08</td>\n",
       "      <td>18.207835</td>\n",
       "    </tr>\n",
       "  </tbody>\n",
       "</table>\n",
       "<p>200 rows × 5 columns</p>\n",
       "</div>"
      ],
      "text/plain": [
       "     youtube  facebook  newspaper  sales  salse_predict\n",
       "0     276.12     45.36      83.04  26.52      24.628769\n",
       "1      53.40     47.16      54.12  12.48      14.805426\n",
       "2      20.64     55.08      83.16  11.16      14.769205\n",
       "3     181.80     49.56      70.20  22.20      21.117395\n",
       "4     216.96     12.96      70.08  15.48      15.826406\n",
       "..       ...       ...        ...    ...            ...\n",
       "195    45.84      4.44      16.56   9.12       6.444411\n",
       "196   113.04      5.88       9.72  11.64       9.798375\n",
       "197   212.40     11.16       7.68  15.36      15.343105\n",
       "198   340.32     50.40      79.44  30.60      28.520786\n",
       "199   278.52     10.32      10.44  16.08      18.207835\n",
       "\n",
       "[200 rows x 5 columns]"
      ]
     },
     "execution_count": 62,
     "metadata": {},
     "output_type": "execute_result"
    }
   ],
   "source": [
    "#Compare with true Salary\n",
    "result_compare=pd.concat([X,Y,Y_pred], axis=1)\n",
    "result_compare"
   ]
  },
  {
   "cell_type": "code",
   "execution_count": 63,
   "metadata": {},
   "outputs": [
    {
     "data": {
      "text/html": [
       "<div>\n",
       "<style scoped>\n",
       "    .dataframe tbody tr th:only-of-type {\n",
       "        vertical-align: middle;\n",
       "    }\n",
       "\n",
       "    .dataframe tbody tr th {\n",
       "        vertical-align: top;\n",
       "    }\n",
       "\n",
       "    .dataframe thead th {\n",
       "        text-align: right;\n",
       "    }\n",
       "</style>\n",
       "<table border=\"1\" class=\"dataframe\">\n",
       "  <thead>\n",
       "    <tr style=\"text-align: right;\">\n",
       "      <th></th>\n",
       "      <th>youtube</th>\n",
       "      <th>facebook</th>\n",
       "      <th>newspaper</th>\n",
       "      <th>sales</th>\n",
       "      <th>salse_predict</th>\n",
       "      <th>Deviation</th>\n",
       "    </tr>\n",
       "  </thead>\n",
       "  <tbody>\n",
       "    <tr>\n",
       "      <td>0</td>\n",
       "      <td>276.12</td>\n",
       "      <td>45.36</td>\n",
       "      <td>83.04</td>\n",
       "      <td>26.52</td>\n",
       "      <td>24.628769</td>\n",
       "      <td>1.891231</td>\n",
       "    </tr>\n",
       "    <tr>\n",
       "      <td>1</td>\n",
       "      <td>53.40</td>\n",
       "      <td>47.16</td>\n",
       "      <td>54.12</td>\n",
       "      <td>12.48</td>\n",
       "      <td>14.805426</td>\n",
       "      <td>-2.325426</td>\n",
       "    </tr>\n",
       "    <tr>\n",
       "      <td>2</td>\n",
       "      <td>20.64</td>\n",
       "      <td>55.08</td>\n",
       "      <td>83.16</td>\n",
       "      <td>11.16</td>\n",
       "      <td>14.769205</td>\n",
       "      <td>-3.609205</td>\n",
       "    </tr>\n",
       "    <tr>\n",
       "      <td>3</td>\n",
       "      <td>181.80</td>\n",
       "      <td>49.56</td>\n",
       "      <td>70.20</td>\n",
       "      <td>22.20</td>\n",
       "      <td>21.117395</td>\n",
       "      <td>1.082605</td>\n",
       "    </tr>\n",
       "    <tr>\n",
       "      <td>4</td>\n",
       "      <td>216.96</td>\n",
       "      <td>12.96</td>\n",
       "      <td>70.08</td>\n",
       "      <td>15.48</td>\n",
       "      <td>15.826406</td>\n",
       "      <td>-0.346406</td>\n",
       "    </tr>\n",
       "    <tr>\n",
       "      <td>...</td>\n",
       "      <td>...</td>\n",
       "      <td>...</td>\n",
       "      <td>...</td>\n",
       "      <td>...</td>\n",
       "      <td>...</td>\n",
       "      <td>...</td>\n",
       "    </tr>\n",
       "    <tr>\n",
       "      <td>195</td>\n",
       "      <td>45.84</td>\n",
       "      <td>4.44</td>\n",
       "      <td>16.56</td>\n",
       "      <td>9.12</td>\n",
       "      <td>6.444411</td>\n",
       "      <td>2.675589</td>\n",
       "    </tr>\n",
       "    <tr>\n",
       "      <td>196</td>\n",
       "      <td>113.04</td>\n",
       "      <td>5.88</td>\n",
       "      <td>9.72</td>\n",
       "      <td>11.64</td>\n",
       "      <td>9.798375</td>\n",
       "      <td>1.841625</td>\n",
       "    </tr>\n",
       "    <tr>\n",
       "      <td>197</td>\n",
       "      <td>212.40</td>\n",
       "      <td>11.16</td>\n",
       "      <td>7.68</td>\n",
       "      <td>15.36</td>\n",
       "      <td>15.343105</td>\n",
       "      <td>0.016895</td>\n",
       "    </tr>\n",
       "    <tr>\n",
       "      <td>198</td>\n",
       "      <td>340.32</td>\n",
       "      <td>50.40</td>\n",
       "      <td>79.44</td>\n",
       "      <td>30.60</td>\n",
       "      <td>28.520786</td>\n",
       "      <td>2.079214</td>\n",
       "    </tr>\n",
       "    <tr>\n",
       "      <td>199</td>\n",
       "      <td>278.52</td>\n",
       "      <td>10.32</td>\n",
       "      <td>10.44</td>\n",
       "      <td>16.08</td>\n",
       "      <td>18.207835</td>\n",
       "      <td>-2.127835</td>\n",
       "    </tr>\n",
       "  </tbody>\n",
       "</table>\n",
       "<p>200 rows × 6 columns</p>\n",
       "</div>"
      ],
      "text/plain": [
       "     youtube  facebook  newspaper  sales  salse_predict  Deviation\n",
       "0     276.12     45.36      83.04  26.52      24.628769   1.891231\n",
       "1      53.40     47.16      54.12  12.48      14.805426  -2.325426\n",
       "2      20.64     55.08      83.16  11.16      14.769205  -3.609205\n",
       "3     181.80     49.56      70.20  22.20      21.117395   1.082605\n",
       "4     216.96     12.96      70.08  15.48      15.826406  -0.346406\n",
       "..       ...       ...        ...    ...            ...        ...\n",
       "195    45.84      4.44      16.56   9.12       6.444411   2.675589\n",
       "196   113.04      5.88       9.72  11.64       9.798375   1.841625\n",
       "197   212.40     11.16       7.68  15.36      15.343105   0.016895\n",
       "198   340.32     50.40      79.44  30.60      28.520786   2.079214\n",
       "199   278.52     10.32      10.44  16.08      18.207835  -2.127835\n",
       "\n",
       "[200 rows x 6 columns]"
      ]
     },
     "execution_count": 63,
     "metadata": {},
     "output_type": "execute_result"
    }
   ],
   "source": [
    "result_compare['Deviation']=result_compare['sales']-result_compare['salse_predict']\n",
    "result_compare"
   ]
  },
  {
   "cell_type": "code",
   "execution_count": 64,
   "metadata": {},
   "outputs": [
    {
     "data": {
      "text/plain": [
       "2.0250467969162855e-13"
      ]
     },
     "execution_count": 64,
     "metadata": {},
     "output_type": "execute_result"
    }
   ],
   "source": [
    "result_compare['Deviation'].sum()"
   ]
  },
  {
   "cell_type": "code",
   "execution_count": 65,
   "metadata": {},
   "outputs": [
    {
     "data": {
      "text/html": [
       "<div>\n",
       "<style scoped>\n",
       "    .dataframe tbody tr th:only-of-type {\n",
       "        vertical-align: middle;\n",
       "    }\n",
       "\n",
       "    .dataframe tbody tr th {\n",
       "        vertical-align: top;\n",
       "    }\n",
       "\n",
       "    .dataframe thead th {\n",
       "        text-align: right;\n",
       "    }\n",
       "</style>\n",
       "<table border=\"1\" class=\"dataframe\">\n",
       "  <thead>\n",
       "    <tr style=\"text-align: right;\">\n",
       "      <th></th>\n",
       "      <th>youtube</th>\n",
       "      <th>facebook</th>\n",
       "      <th>newsapaper</th>\n",
       "      <th>Sale_Predicted</th>\n",
       "    </tr>\n",
       "  </thead>\n",
       "  <tbody>\n",
       "    <tr>\n",
       "      <td>0</td>\n",
       "      <td>70</td>\n",
       "      <td>40</td>\n",
       "      <td>50</td>\n",
       "      <td>14.219518</td>\n",
       "    </tr>\n",
       "    <tr>\n",
       "      <td>1</td>\n",
       "      <td>120</td>\n",
       "      <td>60</td>\n",
       "      <td>30</td>\n",
       "      <td>20.299101</td>\n",
       "    </tr>\n",
       "    <tr>\n",
       "      <td>2</td>\n",
       "      <td>220</td>\n",
       "      <td>70</td>\n",
       "      <td>80</td>\n",
       "      <td>26.708991</td>\n",
       "    </tr>\n",
       "  </tbody>\n",
       "</table>\n",
       "</div>"
      ],
      "text/plain": [
       "   youtube  facebook  newsapaper  Sale_Predicted\n",
       "0       70        40          50       14.219518\n",
       "1      120        60          30       20.299101\n",
       "2      220        70          80       26.708991"
      ]
     },
     "execution_count": 65,
     "metadata": {},
     "output_type": "execute_result"
    }
   ],
   "source": [
    "#Predict more values\n",
    "X_new=[[70,40,50],[120,60,30],[220,70,80]]\n",
    "X_new=pd.DataFrame(X_new, columns=['youtube','facebook','newsapaper'])\n",
    "sale_predict=sale_model.predict(X_new)\n",
    "sale_predict=pd.DataFrame(sale_predict, columns=['Sale_Predicted'])\n",
    "df= pd.concat([X_new, sale_predict], axis=1)\n",
    "df"
   ]
  },
  {
   "cell_type": "code",
   "execution_count": 75,
   "metadata": {},
   "outputs": [
    {
     "name": "stdout",
     "output_type": "stream",
     "text": [
      "4.00914189289575\n"
     ]
    }
   ],
   "source": [
    "#Lets calculate the mean squared error\n",
    "import numpy as np\n",
    "mse=np.mean((data['sales']-sale_model.predict(X))**2)\n",
    "print (mse)"
   ]
  },
  {
   "cell_type": "code",
   "execution_count": 76,
   "metadata": {},
   "outputs": [
    {
     "data": {
      "text/plain": [
       "4.009141892895748"
      ]
     },
     "execution_count": 76,
     "metadata": {},
     "output_type": "execute_result"
    }
   ],
   "source": [
    "((result_compare['Deviation'])**2).sum()/200"
   ]
  },
  {
   "cell_type": "code",
   "execution_count": null,
   "metadata": {},
   "outputs": [],
   "source": []
  }
 ],
 "metadata": {
  "kernelspec": {
   "display_name": "Python 3",
   "language": "python",
   "name": "python3"
  },
  "language_info": {
   "codemirror_mode": {
    "name": "ipython",
    "version": 3
   },
   "file_extension": ".py",
   "mimetype": "text/x-python",
   "name": "python",
   "nbconvert_exporter": "python",
   "pygments_lexer": "ipython3",
   "version": "3.7.3"
  }
 },
 "nbformat": 4,
 "nbformat_minor": 2
}
