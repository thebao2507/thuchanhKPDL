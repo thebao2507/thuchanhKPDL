{
 "cells": [
  {
   "cell_type": "code",
   "execution_count": 1,
   "id": "e4996468",
   "metadata": {},
   "outputs": [
    {
     "data": {
      "text/plain": [
       "44"
      ]
     },
     "execution_count": 1,
     "metadata": {},
     "output_type": "execute_result"
    }
   ],
   "source": [
    "import pandas as pd\n",
    "df = pd.read_excel('lab 2-3\\JOB_INFO.xlsx')\n",
    "df\n",
    "#đếm số tuổi có trong danh sách\n",
    "demtuoi = df['Age'].count()\n",
    "demtuoi"
   ]
  },
  {
   "cell_type": "code",
   "execution_count": 13,
   "id": "f8f85a06",
   "metadata": {},
   "outputs": [
    {
     "data": {
      "text/plain": [
       "39.0"
      ]
     },
     "execution_count": 13,
     "metadata": {},
     "output_type": "execute_result"
    }
   ],
   "source": [
    "#tìm tuổi lớn nhất\n",
    "tuoilonnhat = df['Age'].max()\n",
    "tuoilonnhat"
   ]
  },
  {
   "cell_type": "code",
   "execution_count": 14,
   "id": "8a576256",
   "metadata": {},
   "outputs": [
    {
     "data": {
      "text/plain": [
       "22.0"
      ]
     },
     "execution_count": 14,
     "metadata": {},
     "output_type": "execute_result"
    }
   ],
   "source": [
    "#tìm tuổi nhỏ nhất\n",
    "tuoinhonhat = df['Age'].min()\n",
    "tuoinhonhat"
   ]
  },
  {
   "cell_type": "code",
   "execution_count": 15,
   "id": "f10efedf",
   "metadata": {},
   "outputs": [
    {
     "data": {
      "text/plain": [
       "28.977272727272727"
      ]
     },
     "execution_count": 15,
     "metadata": {},
     "output_type": "execute_result"
    }
   ],
   "source": [
    "#tính tuổi trung bình\n",
    "tuoiTB = df['Age'].mean()\n",
    "tuoiTB"
   ]
  },
  {
   "cell_type": "code",
   "execution_count": 16,
   "id": "f04ff230",
   "metadata": {},
   "outputs": [
    {
     "data": {
      "text/plain": [
       "4.406594616020015"
      ]
     },
     "execution_count": 16,
     "metadata": {},
     "output_type": "execute_result"
    }
   ],
   "source": [
    "#tính độ chênh lệch\n",
    "dochenhlech = df['Age'].std()\n",
    "dochenhlech"
   ]
  },
  {
   "cell_type": "code",
   "execution_count": 17,
   "id": "50b4c7a7",
   "metadata": {},
   "outputs": [
    {
     "data": {
      "text/plain": [
       "0    28.0\n",
       "Name: Age, dtype: float64"
      ]
     },
     "execution_count": 17,
     "metadata": {},
     "output_type": "execute_result"
    }
   ],
   "source": [
    "#tìm tuổi xuất hiện nhiều nhất\n",
    "xuathiennhieulan = df['Age'].mode()\n",
    "xuathiennhieulan"
   ]
  },
  {
   "cell_type": "code",
   "execution_count": 4,
   "id": "670e9463",
   "metadata": {},
   "outputs": [
    {
     "data": {
      "text/html": [
       "<div>\n",
       "<style scoped>\n",
       "    .dataframe tbody tr th:only-of-type {\n",
       "        vertical-align: middle;\n",
       "    }\n",
       "\n",
       "    .dataframe tbody tr th {\n",
       "        vertical-align: top;\n",
       "    }\n",
       "\n",
       "    .dataframe thead th {\n",
       "        text-align: right;\n",
       "    }\n",
       "</style>\n",
       "<table border=\"1\" class=\"dataframe\">\n",
       "  <thead>\n",
       "    <tr style=\"text-align: right;\">\n",
       "      <th></th>\n",
       "      <th>Age</th>\n",
       "      <th>WorkingYear</th>\n",
       "      <th>Salary</th>\n",
       "      <th>TrainedYear</th>\n",
       "    </tr>\n",
       "  </thead>\n",
       "  <tbody>\n",
       "    <tr>\n",
       "      <th>count</th>\n",
       "      <td>44.000000</td>\n",
       "      <td>45.000000</td>\n",
       "      <td>46.000000</td>\n",
       "      <td>43.000000</td>\n",
       "    </tr>\n",
       "    <tr>\n",
       "      <th>mean</th>\n",
       "      <td>28.977273</td>\n",
       "      <td>4.133333</td>\n",
       "      <td>1143.847826</td>\n",
       "      <td>3.976744</td>\n",
       "    </tr>\n",
       "    <tr>\n",
       "      <th>std</th>\n",
       "      <td>4.406595</td>\n",
       "      <td>1.739906</td>\n",
       "      <td>238.132360</td>\n",
       "      <td>1.318158</td>\n",
       "    </tr>\n",
       "    <tr>\n",
       "      <th>min</th>\n",
       "      <td>22.000000</td>\n",
       "      <td>1.000000</td>\n",
       "      <td>766.000000</td>\n",
       "      <td>2.000000</td>\n",
       "    </tr>\n",
       "    <tr>\n",
       "      <th>25%</th>\n",
       "      <td>26.750000</td>\n",
       "      <td>3.000000</td>\n",
       "      <td>894.250000</td>\n",
       "      <td>3.000000</td>\n",
       "    </tr>\n",
       "    <tr>\n",
       "      <th>50%</th>\n",
       "      <td>28.500000</td>\n",
       "      <td>4.000000</td>\n",
       "      <td>1216.500000</td>\n",
       "      <td>4.000000</td>\n",
       "    </tr>\n",
       "    <tr>\n",
       "      <th>75%</th>\n",
       "      <td>31.000000</td>\n",
       "      <td>5.000000</td>\n",
       "      <td>1347.250000</td>\n",
       "      <td>5.000000</td>\n",
       "    </tr>\n",
       "    <tr>\n",
       "      <th>max</th>\n",
       "      <td>39.000000</td>\n",
       "      <td>7.000000</td>\n",
       "      <td>1457.000000</td>\n",
       "      <td>7.000000</td>\n",
       "    </tr>\n",
       "  </tbody>\n",
       "</table>\n",
       "</div>"
      ],
      "text/plain": [
       "             Age  WorkingYear       Salary  TrainedYear\n",
       "count  44.000000    45.000000    46.000000    43.000000\n",
       "mean   28.977273     4.133333  1143.847826     3.976744\n",
       "std     4.406595     1.739906   238.132360     1.318158\n",
       "min    22.000000     1.000000   766.000000     2.000000\n",
       "25%    26.750000     3.000000   894.250000     3.000000\n",
       "50%    28.500000     4.000000  1216.500000     4.000000\n",
       "75%    31.000000     5.000000  1347.250000     5.000000\n",
       "max    39.000000     7.000000  1457.000000     7.000000"
      ]
     },
     "execution_count": 4,
     "metadata": {},
     "output_type": "execute_result"
    }
   ],
   "source": [
    "#tính tổng hợp\n",
    "df.describe()"
   ]
  },
  {
   "cell_type": "code",
   "execution_count": 3,
   "id": "d6755cdf",
   "metadata": {},
   "outputs": [
    {
     "data": {
      "text/html": [
       "<div>\n",
       "<style scoped>\n",
       "    .dataframe tbody tr th:only-of-type {\n",
       "        vertical-align: middle;\n",
       "    }\n",
       "\n",
       "    .dataframe tbody tr th {\n",
       "        vertical-align: top;\n",
       "    }\n",
       "\n",
       "    .dataframe thead tr th {\n",
       "        text-align: left;\n",
       "    }\n",
       "\n",
       "    .dataframe thead tr:last-of-type th {\n",
       "        text-align: right;\n",
       "    }\n",
       "</style>\n",
       "<table border=\"1\" class=\"dataframe\">\n",
       "  <thead>\n",
       "    <tr>\n",
       "      <th></th>\n",
       "      <th colspan=\"8\" halign=\"left\">Age</th>\n",
       "      <th colspan=\"8\" halign=\"left\">Salary</th>\n",
       "    </tr>\n",
       "    <tr>\n",
       "      <th></th>\n",
       "      <th>count</th>\n",
       "      <th>mean</th>\n",
       "      <th>std</th>\n",
       "      <th>min</th>\n",
       "      <th>25%</th>\n",
       "      <th>50%</th>\n",
       "      <th>75%</th>\n",
       "      <th>max</th>\n",
       "      <th>count</th>\n",
       "      <th>mean</th>\n",
       "      <th>std</th>\n",
       "      <th>min</th>\n",
       "      <th>25%</th>\n",
       "      <th>50%</th>\n",
       "      <th>75%</th>\n",
       "      <th>max</th>\n",
       "    </tr>\n",
       "    <tr>\n",
       "      <th>Skill</th>\n",
       "      <th></th>\n",
       "      <th></th>\n",
       "      <th></th>\n",
       "      <th></th>\n",
       "      <th></th>\n",
       "      <th></th>\n",
       "      <th></th>\n",
       "      <th></th>\n",
       "      <th></th>\n",
       "      <th></th>\n",
       "      <th></th>\n",
       "      <th></th>\n",
       "      <th></th>\n",
       "      <th></th>\n",
       "      <th></th>\n",
       "      <th></th>\n",
       "    </tr>\n",
       "  </thead>\n",
       "  <tbody>\n",
       "    <tr>\n",
       "      <th>C#</th>\n",
       "      <td>12.0</td>\n",
       "      <td>31.250000</td>\n",
       "      <td>4.287932</td>\n",
       "      <td>23.0</td>\n",
       "      <td>28.0</td>\n",
       "      <td>31.0</td>\n",
       "      <td>33.00</td>\n",
       "      <td>38.0</td>\n",
       "      <td>13.0</td>\n",
       "      <td>1130.923077</td>\n",
       "      <td>203.078992</td>\n",
       "      <td>766.0</td>\n",
       "      <td>943.00</td>\n",
       "      <td>1189.0</td>\n",
       "      <td>1258.0</td>\n",
       "      <td>1386.0</td>\n",
       "    </tr>\n",
       "    <tr>\n",
       "      <th>Java</th>\n",
       "      <td>6.0</td>\n",
       "      <td>32.000000</td>\n",
       "      <td>4.774935</td>\n",
       "      <td>28.0</td>\n",
       "      <td>28.5</td>\n",
       "      <td>30.0</td>\n",
       "      <td>35.25</td>\n",
       "      <td>39.0</td>\n",
       "      <td>6.0</td>\n",
       "      <td>1375.833333</td>\n",
       "      <td>104.618195</td>\n",
       "      <td>1228.0</td>\n",
       "      <td>1296.75</td>\n",
       "      <td>1432.0</td>\n",
       "      <td>1449.5</td>\n",
       "      <td>1456.0</td>\n",
       "    </tr>\n",
       "    <tr>\n",
       "      <th>R</th>\n",
       "      <td>13.0</td>\n",
       "      <td>26.384615</td>\n",
       "      <td>2.534379</td>\n",
       "      <td>22.0</td>\n",
       "      <td>24.0</td>\n",
       "      <td>27.0</td>\n",
       "      <td>28.00</td>\n",
       "      <td>29.0</td>\n",
       "      <td>13.0</td>\n",
       "      <td>1055.692308</td>\n",
       "      <td>244.024720</td>\n",
       "      <td>813.0</td>\n",
       "      <td>894.00</td>\n",
       "      <td>912.0</td>\n",
       "      <td>1219.0</td>\n",
       "      <td>1457.0</td>\n",
       "    </tr>\n",
       "    <tr>\n",
       "      <th>SQL</th>\n",
       "      <td>13.0</td>\n",
       "      <td>28.076923</td>\n",
       "      <td>4.348592</td>\n",
       "      <td>22.0</td>\n",
       "      <td>25.0</td>\n",
       "      <td>29.0</td>\n",
       "      <td>31.00</td>\n",
       "      <td>34.0</td>\n",
       "      <td>14.0</td>\n",
       "      <td>1138.285714</td>\n",
       "      <td>257.366075</td>\n",
       "      <td>767.0</td>\n",
       "      <td>843.50</td>\n",
       "      <td>1245.0</td>\n",
       "      <td>1335.5</td>\n",
       "      <td>1453.0</td>\n",
       "    </tr>\n",
       "  </tbody>\n",
       "</table>\n",
       "</div>"
      ],
      "text/plain": [
       "        Age                                                     Salary  \\\n",
       "      count       mean       std   min   25%   50%    75%   max  count   \n",
       "Skill                                                                    \n",
       "C#     12.0  31.250000  4.287932  23.0  28.0  31.0  33.00  38.0   13.0   \n",
       "Java    6.0  32.000000  4.774935  28.0  28.5  30.0  35.25  39.0    6.0   \n",
       "R      13.0  26.384615  2.534379  22.0  24.0  27.0  28.00  29.0   13.0   \n",
       "SQL    13.0  28.076923  4.348592  22.0  25.0  29.0  31.00  34.0   14.0   \n",
       "\n",
       "                                                                         \n",
       "              mean         std     min      25%     50%     75%     max  \n",
       "Skill                                                                    \n",
       "C#     1130.923077  203.078992   766.0   943.00  1189.0  1258.0  1386.0  \n",
       "Java   1375.833333  104.618195  1228.0  1296.75  1432.0  1449.5  1456.0  \n",
       "R      1055.692308  244.024720   813.0   894.00   912.0  1219.0  1457.0  \n",
       "SQL    1138.285714  257.366075   767.0   843.50  1245.0  1335.5  1453.0  "
      ]
     },
     "execution_count": 3,
     "metadata": {},
     "output_type": "execute_result"
    }
   ],
   "source": [
    "#thống kê gọp nhóm\n",
    "df.groupby('Skill')[['Age','Salary']].describe()"
   ]
  },
  {
   "cell_type": "code",
   "execution_count": 5,
   "id": "de12f6e1",
   "metadata": {},
   "outputs": [
    {
     "data": {
      "text/html": [
       "<div>\n",
       "<style scoped>\n",
       "    .dataframe tbody tr th:only-of-type {\n",
       "        vertical-align: middle;\n",
       "    }\n",
       "\n",
       "    .dataframe tbody tr th {\n",
       "        vertical-align: top;\n",
       "    }\n",
       "\n",
       "    .dataframe thead th {\n",
       "        text-align: right;\n",
       "    }\n",
       "</style>\n",
       "<table border=\"1\" class=\"dataframe\">\n",
       "  <thead>\n",
       "    <tr style=\"text-align: right;\">\n",
       "      <th></th>\n",
       "      <th>Salary</th>\n",
       "      <th>WorkingYear</th>\n",
       "    </tr>\n",
       "  </thead>\n",
       "  <tbody>\n",
       "    <tr>\n",
       "      <th>Salary</th>\n",
       "      <td>1.000000</td>\n",
       "      <td>0.566201</td>\n",
       "    </tr>\n",
       "    <tr>\n",
       "      <th>WorkingYear</th>\n",
       "      <td>0.566201</td>\n",
       "      <td>1.000000</td>\n",
       "    </tr>\n",
       "  </tbody>\n",
       "</table>\n",
       "</div>"
      ],
      "text/plain": [
       "               Salary  WorkingYear\n",
       "Salary       1.000000     0.566201\n",
       "WorkingYear  0.566201     1.000000"
      ]
     },
     "execution_count": 5,
     "metadata": {},
     "output_type": "execute_result"
    }
   ],
   "source": [
    "#đo sự tương quan\n",
    "df[['Salary','WorkingYear']].corr()"
   ]
  },
  {
   "cell_type": "code",
   "execution_count": 6,
   "id": "2be25f3e",
   "metadata": {},
   "outputs": [
    {
     "data": {
      "text/html": [
       "<div>\n",
       "<style scoped>\n",
       "    .dataframe tbody tr th:only-of-type {\n",
       "        vertical-align: middle;\n",
       "    }\n",
       "\n",
       "    .dataframe tbody tr th {\n",
       "        vertical-align: top;\n",
       "    }\n",
       "\n",
       "    .dataframe thead th {\n",
       "        text-align: right;\n",
       "    }\n",
       "</style>\n",
       "<table border=\"1\" class=\"dataframe\">\n",
       "  <thead>\n",
       "    <tr style=\"text-align: right;\">\n",
       "      <th></th>\n",
       "      <th>Salary</th>\n",
       "      <th>Age</th>\n",
       "    </tr>\n",
       "  </thead>\n",
       "  <tbody>\n",
       "    <tr>\n",
       "      <th>Salary</th>\n",
       "      <td>1.000000</td>\n",
       "      <td>0.428102</td>\n",
       "    </tr>\n",
       "    <tr>\n",
       "      <th>Age</th>\n",
       "      <td>0.428102</td>\n",
       "      <td>1.000000</td>\n",
       "    </tr>\n",
       "  </tbody>\n",
       "</table>\n",
       "</div>"
      ],
      "text/plain": [
       "          Salary       Age\n",
       "Salary  1.000000  0.428102\n",
       "Age     0.428102  1.000000"
      ]
     },
     "execution_count": 6,
     "metadata": {},
     "output_type": "execute_result"
    }
   ],
   "source": [
    "#đo sự tương quan\n",
    "df[['Salary','Age']].corr()"
   ]
  },
  {
   "cell_type": "code",
   "execution_count": 7,
   "id": "b4fcd3d9",
   "metadata": {},
   "outputs": [
    {
     "data": {
      "text/html": [
       "<div>\n",
       "<style scoped>\n",
       "    .dataframe tbody tr th:only-of-type {\n",
       "        vertical-align: middle;\n",
       "    }\n",
       "\n",
       "    .dataframe tbody tr th {\n",
       "        vertical-align: top;\n",
       "    }\n",
       "\n",
       "    .dataframe thead th {\n",
       "        text-align: right;\n",
       "    }\n",
       "</style>\n",
       "<table border=\"1\" class=\"dataframe\">\n",
       "  <thead>\n",
       "    <tr style=\"text-align: right;\">\n",
       "      <th></th>\n",
       "      <th>Salary</th>\n",
       "      <th>TrainedYear</th>\n",
       "    </tr>\n",
       "  </thead>\n",
       "  <tbody>\n",
       "    <tr>\n",
       "      <th>Salary</th>\n",
       "      <td>1.000000</td>\n",
       "      <td>0.910077</td>\n",
       "    </tr>\n",
       "    <tr>\n",
       "      <th>TrainedYear</th>\n",
       "      <td>0.910077</td>\n",
       "      <td>1.000000</td>\n",
       "    </tr>\n",
       "  </tbody>\n",
       "</table>\n",
       "</div>"
      ],
      "text/plain": [
       "               Salary  TrainedYear\n",
       "Salary       1.000000     0.910077\n",
       "TrainedYear  0.910077     1.000000"
      ]
     },
     "execution_count": 7,
     "metadata": {},
     "output_type": "execute_result"
    }
   ],
   "source": [
    "#đo sự tương quan\n",
    "df[['Salary','TrainedYear']].corr()"
   ]
  },
  {
   "cell_type": "code",
   "execution_count": 8,
   "id": "7fd203f7",
   "metadata": {},
   "outputs": [
    {
     "data": {
      "text/html": [
       "<div>\n",
       "<style scoped>\n",
       "    .dataframe tbody tr th:only-of-type {\n",
       "        vertical-align: middle;\n",
       "    }\n",
       "\n",
       "    .dataframe tbody tr th {\n",
       "        vertical-align: top;\n",
       "    }\n",
       "\n",
       "    .dataframe thead th {\n",
       "        text-align: right;\n",
       "    }\n",
       "</style>\n",
       "<table border=\"1\" class=\"dataframe\">\n",
       "  <thead>\n",
       "    <tr style=\"text-align: right;\">\n",
       "      <th></th>\n",
       "      <th>WorkingYear</th>\n",
       "      <th>Age</th>\n",
       "    </tr>\n",
       "  </thead>\n",
       "  <tbody>\n",
       "    <tr>\n",
       "      <th>WorkingYear</th>\n",
       "      <td>1.000000</td>\n",
       "      <td>0.787217</td>\n",
       "    </tr>\n",
       "    <tr>\n",
       "      <th>Age</th>\n",
       "      <td>0.787217</td>\n",
       "      <td>1.000000</td>\n",
       "    </tr>\n",
       "  </tbody>\n",
       "</table>\n",
       "</div>"
      ],
      "text/plain": [
       "             WorkingYear       Age\n",
       "WorkingYear     1.000000  0.787217\n",
       "Age             0.787217  1.000000"
      ]
     },
     "execution_count": 8,
     "metadata": {},
     "output_type": "execute_result"
    }
   ],
   "source": [
    "#đo sự tương quan\n",
    "df[['WorkingYear','Age']].corr()"
   ]
  },
  {
   "cell_type": "code",
   "execution_count": null,
   "id": "597a0ce5",
   "metadata": {},
   "outputs": [],
   "source": []
  }
 ],
 "metadata": {
  "kernelspec": {
   "display_name": "Python 3 (ipykernel)",
   "language": "python",
   "name": "python3"
  },
  "language_info": {
   "codemirror_mode": {
    "name": "ipython",
    "version": 3
   },
   "file_extension": ".py",
   "mimetype": "text/x-python",
   "name": "python",
   "nbconvert_exporter": "python",
   "pygments_lexer": "ipython3",
   "version": "3.9.13"
  }
 },
 "nbformat": 4,
 "nbformat_minor": 5
}
