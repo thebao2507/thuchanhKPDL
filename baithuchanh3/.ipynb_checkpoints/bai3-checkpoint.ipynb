{
 "cells": [
  {
   "cell_type": "code",
   "execution_count": 1,
   "id": "ae8f9403",
   "metadata": {},
   "outputs": [],
   "source": [
    "import pandas as pd\n",
    "df = pd.read_csv('TotnghiepOK.csv')"
   ]
  },
  {
   "cell_type": "code",
   "execution_count": 3,
   "id": "41da1217",
   "metadata": {},
   "outputs": [],
   "source": [
    "#rời rạc hóa trường toán\n",
    "cut_labels = ['yếu','trung bình','khá','giỏi'] \n",
    "cut_bins = [0, 4, 6, 8, 10] #0: min, 10: max\n",
    "df['level_Toan'] = pd.cut(df['Toan'], bins=cut_bins, labels=cut_labels)"
   ]
  },
  {
   "cell_type": "code",
   "execution_count": 4,
   "id": "af0bc94e",
   "metadata": {},
   "outputs": [],
   "source": [
    "#rời rạc hóa trường anh văn\n",
    "cut_labels = ['trung bình','khá','giỏi'] \n",
    "cut_bins = [4, 6, 8, 10] #4: min, 10: max\n",
    "df['level_AnhVan'] = pd.cut(df['Anh'], bins=cut_bins, labels=cut_labels)"
   ]
  },
  {
   "cell_type": "code",
   "execution_count": null,
   "id": "05f16fa4",
   "metadata": {},
   "outputs": [],
   "source": []
  }
 ],
 "metadata": {
  "kernelspec": {
   "display_name": "Python 3 (ipykernel)",
   "language": "python",
   "name": "python3"
  },
  "language_info": {
   "codemirror_mode": {
    "name": "ipython",
    "version": 3
   },
   "file_extension": ".py",
   "mimetype": "text/x-python",
   "name": "python",
   "nbconvert_exporter": "python",
   "pygments_lexer": "ipython3",
   "version": "3.9.13"
  }
 },
 "nbformat": 4,
 "nbformat_minor": 5
}
