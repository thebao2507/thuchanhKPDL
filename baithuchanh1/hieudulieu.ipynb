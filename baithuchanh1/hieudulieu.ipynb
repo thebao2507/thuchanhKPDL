{
 "cells": [
  {
   "cell_type": "code",
   "execution_count": 2,
   "id": "4372c09c",
   "metadata": {},
   "outputs": [],
   "source": [
    "import pandas as pd\n",
    "import seaborn as sns\n",
    "df = pd.read_excel('Employee_data.xlsx')"
   ]
  },
  {
   "cell_type": "code",
   "execution_count": 9,
   "id": "92375479",
   "metadata": {
    "scrolled": false
   },
   "outputs": [
    {
     "data": {
      "text/html": [
       "<div>\n",
       "<style scoped>\n",
       "    .dataframe tbody tr th:only-of-type {\n",
       "        vertical-align: middle;\n",
       "    }\n",
       "\n",
       "    .dataframe tbody tr th {\n",
       "        vertical-align: top;\n",
       "    }\n",
       "\n",
       "    .dataframe thead th {\n",
       "        text-align: right;\n",
       "    }\n",
       "</style>\n",
       "<table border=\"1\" class=\"dataframe\">\n",
       "  <thead>\n",
       "    <tr style=\"text-align: right;\">\n",
       "      <th></th>\n",
       "      <th>ENO</th>\n",
       "      <th>Age</th>\n",
       "      <th>Dept</th>\n",
       "      <th>Gender</th>\n",
       "      <th>Skill</th>\n",
       "      <th>WorkingYear</th>\n",
       "      <th>Salary</th>\n",
       "      <th>TrainedYear</th>\n",
       "      <th>OfficeCity</th>\n",
       "    </tr>\n",
       "  </thead>\n",
       "  <tbody>\n",
       "    <tr>\n",
       "      <th>0</th>\n",
       "      <td>E001</td>\n",
       "      <td>29</td>\n",
       "      <td>HR</td>\n",
       "      <td>Female</td>\n",
       "      <td>SQL</td>\n",
       "      <td>3</td>\n",
       "      <td>833.238061</td>\n",
       "      <td>3</td>\n",
       "      <td>Danang</td>\n",
       "    </tr>\n",
       "    <tr>\n",
       "      <th>1</th>\n",
       "      <td>E002</td>\n",
       "      <td>39</td>\n",
       "      <td>IT</td>\n",
       "      <td>Male</td>\n",
       "      <td>Java</td>\n",
       "      <td>7</td>\n",
       "      <td>1459.629839</td>\n",
       "      <td>7</td>\n",
       "      <td>Danang</td>\n",
       "    </tr>\n",
       "    <tr>\n",
       "      <th>2</th>\n",
       "      <td>E003</td>\n",
       "      <td>32</td>\n",
       "      <td>IT</td>\n",
       "      <td>Male</td>\n",
       "      <td>SQL</td>\n",
       "      <td>6</td>\n",
       "      <td>1239.044884</td>\n",
       "      <td>4</td>\n",
       "      <td>Danang</td>\n",
       "    </tr>\n",
       "    <tr>\n",
       "      <th>3</th>\n",
       "      <td>E004</td>\n",
       "      <td>38</td>\n",
       "      <td>HR</td>\n",
       "      <td>Female</td>\n",
       "      <td>C#</td>\n",
       "      <td>6</td>\n",
       "      <td>1328.732047</td>\n",
       "      <td>5</td>\n",
       "      <td>Danang</td>\n",
       "    </tr>\n",
       "    <tr>\n",
       "      <th>4</th>\n",
       "      <td>E005</td>\n",
       "      <td>28</td>\n",
       "      <td>IT</td>\n",
       "      <td>Male</td>\n",
       "      <td>Python</td>\n",
       "      <td>2</td>\n",
       "      <td>902.195162</td>\n",
       "      <td>3</td>\n",
       "      <td>Hanoi</td>\n",
       "    </tr>\n",
       "    <tr>\n",
       "      <th>...</th>\n",
       "      <td>...</td>\n",
       "      <td>...</td>\n",
       "      <td>...</td>\n",
       "      <td>...</td>\n",
       "      <td>...</td>\n",
       "      <td>...</td>\n",
       "      <td>...</td>\n",
       "      <td>...</td>\n",
       "      <td>...</td>\n",
       "    </tr>\n",
       "    <tr>\n",
       "      <th>87</th>\n",
       "      <td>E088</td>\n",
       "      <td>32</td>\n",
       "      <td>MA</td>\n",
       "      <td>Male</td>\n",
       "      <td>C#</td>\n",
       "      <td>5</td>\n",
       "      <td>1222.260515</td>\n",
       "      <td>4</td>\n",
       "      <td>Hue</td>\n",
       "    </tr>\n",
       "    <tr>\n",
       "      <th>88</th>\n",
       "      <td>E089</td>\n",
       "      <td>23</td>\n",
       "      <td>HR</td>\n",
       "      <td>Male</td>\n",
       "      <td>Python</td>\n",
       "      <td>3</td>\n",
       "      <td>921.807240</td>\n",
       "      <td>3</td>\n",
       "      <td>Hue</td>\n",
       "    </tr>\n",
       "    <tr>\n",
       "      <th>89</th>\n",
       "      <td>E090</td>\n",
       "      <td>28</td>\n",
       "      <td>HR</td>\n",
       "      <td>Female</td>\n",
       "      <td>C#</td>\n",
       "      <td>5</td>\n",
       "      <td>1392.034937</td>\n",
       "      <td>5</td>\n",
       "      <td>Hue</td>\n",
       "    </tr>\n",
       "    <tr>\n",
       "      <th>90</th>\n",
       "      <td>E091</td>\n",
       "      <td>25</td>\n",
       "      <td>IT</td>\n",
       "      <td>Female</td>\n",
       "      <td>SQL</td>\n",
       "      <td>4</td>\n",
       "      <td>1415.881927</td>\n",
       "      <td>5</td>\n",
       "      <td>Hue</td>\n",
       "    </tr>\n",
       "    <tr>\n",
       "      <th>91</th>\n",
       "      <td>E092</td>\n",
       "      <td>24</td>\n",
       "      <td>IT</td>\n",
       "      <td>Male</td>\n",
       "      <td>Python</td>\n",
       "      <td>2</td>\n",
       "      <td>1221.981314</td>\n",
       "      <td>4</td>\n",
       "      <td>Hue</td>\n",
       "    </tr>\n",
       "  </tbody>\n",
       "</table>\n",
       "<p>92 rows × 9 columns</p>\n",
       "</div>"
      ],
      "text/plain": [
       "     ENO  Age Dept  Gender   Skill  WorkingYear       Salary  TrainedYear  \\\n",
       "0   E001   29   HR  Female     SQL            3   833.238061            3   \n",
       "1   E002   39   IT    Male    Java            7  1459.629839            7   \n",
       "2   E003   32   IT    Male     SQL            6  1239.044884            4   \n",
       "3   E004   38   HR  Female      C#            6  1328.732047            5   \n",
       "4   E005   28   IT    Male  Python            2   902.195162            3   \n",
       "..   ...  ...  ...     ...     ...          ...          ...          ...   \n",
       "87  E088   32   MA    Male      C#            5  1222.260515            4   \n",
       "88  E089   23   HR    Male  Python            3   921.807240            3   \n",
       "89  E090   28   HR  Female      C#            5  1392.034937            5   \n",
       "90  E091   25   IT  Female     SQL            4  1415.881927            5   \n",
       "91  E092   24   IT    Male  Python            2  1221.981314            4   \n",
       "\n",
       "   OfficeCity  \n",
       "0      Danang  \n",
       "1      Danang  \n",
       "2      Danang  \n",
       "3      Danang  \n",
       "4       Hanoi  \n",
       "..        ...  \n",
       "87        Hue  \n",
       "88        Hue  \n",
       "89        Hue  \n",
       "90        Hue  \n",
       "91        Hue  \n",
       "\n",
       "[92 rows x 9 columns]"
      ]
     },
     "execution_count": 9,
     "metadata": {},
     "output_type": "execute_result"
    }
   ],
   "source": [
    "df"
   ]
  },
  {
   "cell_type": "code",
   "execution_count": 2,
   "id": "33c3f421",
   "metadata": {},
   "outputs": [
    {
     "data": {
      "text/html": [
       "<div>\n",
       "<style scoped>\n",
       "    .dataframe tbody tr th:only-of-type {\n",
       "        vertical-align: middle;\n",
       "    }\n",
       "\n",
       "    .dataframe tbody tr th {\n",
       "        vertical-align: top;\n",
       "    }\n",
       "\n",
       "    .dataframe thead tr th {\n",
       "        text-align: left;\n",
       "    }\n",
       "\n",
       "    .dataframe thead tr:last-of-type th {\n",
       "        text-align: right;\n",
       "    }\n",
       "</style>\n",
       "<table border=\"1\" class=\"dataframe\">\n",
       "  <thead>\n",
       "    <tr>\n",
       "      <th></th>\n",
       "      <th colspan=\"8\" halign=\"left\">Age</th>\n",
       "      <th colspan=\"8\" halign=\"left\">Salary</th>\n",
       "    </tr>\n",
       "    <tr>\n",
       "      <th></th>\n",
       "      <th>count</th>\n",
       "      <th>mean</th>\n",
       "      <th>std</th>\n",
       "      <th>min</th>\n",
       "      <th>25%</th>\n",
       "      <th>50%</th>\n",
       "      <th>75%</th>\n",
       "      <th>max</th>\n",
       "      <th>count</th>\n",
       "      <th>mean</th>\n",
       "      <th>std</th>\n",
       "      <th>min</th>\n",
       "      <th>25%</th>\n",
       "      <th>50%</th>\n",
       "      <th>75%</th>\n",
       "      <th>max</th>\n",
       "    </tr>\n",
       "    <tr>\n",
       "      <th>Skill</th>\n",
       "      <th></th>\n",
       "      <th></th>\n",
       "      <th></th>\n",
       "      <th></th>\n",
       "      <th></th>\n",
       "      <th></th>\n",
       "      <th></th>\n",
       "      <th></th>\n",
       "      <th></th>\n",
       "      <th></th>\n",
       "      <th></th>\n",
       "      <th></th>\n",
       "      <th></th>\n",
       "      <th></th>\n",
       "      <th></th>\n",
       "      <th></th>\n",
       "    </tr>\n",
       "  </thead>\n",
       "  <tbody>\n",
       "    <tr>\n",
       "      <th>C#</th>\n",
       "      <td>26.0</td>\n",
       "      <td>30.692308</td>\n",
       "      <td>4.479011</td>\n",
       "      <td>23.0</td>\n",
       "      <td>28.0</td>\n",
       "      <td>31.0</td>\n",
       "      <td>32.0</td>\n",
       "      <td>38.0</td>\n",
       "      <td>26.0</td>\n",
       "      <td>1136.647875</td>\n",
       "      <td>198.788804</td>\n",
       "      <td>774.036072</td>\n",
       "      <td>946.992012</td>\n",
       "      <td>1194.845539</td>\n",
       "      <td>1264.510512</td>\n",
       "      <td>1392.034937</td>\n",
       "    </tr>\n",
       "    <tr>\n",
       "      <th>Java</th>\n",
       "      <td>12.0</td>\n",
       "      <td>32.000000</td>\n",
       "      <td>4.552721</td>\n",
       "      <td>28.0</td>\n",
       "      <td>28.0</td>\n",
       "      <td>30.0</td>\n",
       "      <td>37.0</td>\n",
       "      <td>39.0</td>\n",
       "      <td>12.0</td>\n",
       "      <td>1382.434481</td>\n",
       "      <td>100.738527</td>\n",
       "      <td>1230.231222</td>\n",
       "      <td>1265.273512</td>\n",
       "      <td>1439.545035</td>\n",
       "      <td>1457.113293</td>\n",
       "      <td>1464.350776</td>\n",
       "    </tr>\n",
       "    <tr>\n",
       "      <th>Python</th>\n",
       "      <td>26.0</td>\n",
       "      <td>26.384615</td>\n",
       "      <td>2.483174</td>\n",
       "      <td>22.0</td>\n",
       "      <td>24.0</td>\n",
       "      <td>27.0</td>\n",
       "      <td>28.0</td>\n",
       "      <td>29.0</td>\n",
       "      <td>26.0</td>\n",
       "      <td>1060.653227</td>\n",
       "      <td>239.984408</td>\n",
       "      <td>813.511508</td>\n",
       "      <td>894.147565</td>\n",
       "      <td>919.720575</td>\n",
       "      <td>1223.527930</td>\n",
       "      <td>1466.414494</td>\n",
       "    </tr>\n",
       "    <tr>\n",
       "      <th>SQL</th>\n",
       "      <td>28.0</td>\n",
       "      <td>28.357143</td>\n",
       "      <td>4.227023</td>\n",
       "      <td>22.0</td>\n",
       "      <td>25.0</td>\n",
       "      <td>29.0</td>\n",
       "      <td>32.0</td>\n",
       "      <td>34.0</td>\n",
       "      <td>28.0</td>\n",
       "      <td>1142.967909</td>\n",
       "      <td>252.092101</td>\n",
       "      <td>768.119063</td>\n",
       "      <td>833.047122</td>\n",
       "      <td>1247.283959</td>\n",
       "      <td>1344.902228</td>\n",
       "      <td>1461.607987</td>\n",
       "    </tr>\n",
       "  </tbody>\n",
       "</table>\n",
       "</div>"
      ],
      "text/plain": [
       "         Age                                                    Salary  \\\n",
       "       count       mean       std   min   25%   50%   75%   max  count   \n",
       "Skill                                                                    \n",
       "C#      26.0  30.692308  4.479011  23.0  28.0  31.0  32.0  38.0   26.0   \n",
       "Java    12.0  32.000000  4.552721  28.0  28.0  30.0  37.0  39.0   12.0   \n",
       "Python  26.0  26.384615  2.483174  22.0  24.0  27.0  28.0  29.0   26.0   \n",
       "SQL     28.0  28.357143  4.227023  22.0  25.0  29.0  32.0  34.0   28.0   \n",
       "\n",
       "                                                                        \\\n",
       "               mean         std          min          25%          50%   \n",
       "Skill                                                                    \n",
       "C#      1136.647875  198.788804   774.036072   946.992012  1194.845539   \n",
       "Java    1382.434481  100.738527  1230.231222  1265.273512  1439.545035   \n",
       "Python  1060.653227  239.984408   813.511508   894.147565   919.720575   \n",
       "SQL     1142.967909  252.092101   768.119063   833.047122  1247.283959   \n",
       "\n",
       "                                  \n",
       "                75%          max  \n",
       "Skill                             \n",
       "C#      1264.510512  1392.034937  \n",
       "Java    1457.113293  1464.350776  \n",
       "Python  1223.527930  1466.414494  \n",
       "SQL     1344.902228  1461.607987  "
      ]
     },
     "execution_count": 2,
     "metadata": {},
     "output_type": "execute_result"
    }
   ],
   "source": [
    "#thống kê trường Age và Salary theo gộp nhóm trường Skill\n",
    "df.groupby('Skill')[['Age','Salary']].describe()"
   ]
  },
  {
   "cell_type": "code",
   "execution_count": 3,
   "id": "778fbaf4",
   "metadata": {},
   "outputs": [
    {
     "data": {
      "text/html": [
       "<div>\n",
       "<style scoped>\n",
       "    .dataframe tbody tr th:only-of-type {\n",
       "        vertical-align: middle;\n",
       "    }\n",
       "\n",
       "    .dataframe tbody tr th {\n",
       "        vertical-align: top;\n",
       "    }\n",
       "\n",
       "    .dataframe thead th {\n",
       "        text-align: right;\n",
       "    }\n",
       "</style>\n",
       "<table border=\"1\" class=\"dataframe\">\n",
       "  <thead>\n",
       "    <tr style=\"text-align: right;\">\n",
       "      <th></th>\n",
       "      <th>Age</th>\n",
       "      <th>WorkingYear</th>\n",
       "      <th>Salary</th>\n",
       "      <th>TrainedYear</th>\n",
       "    </tr>\n",
       "  </thead>\n",
       "  <tbody>\n",
       "    <tr>\n",
       "      <th>count</th>\n",
       "      <td>92.000000</td>\n",
       "      <td>92.000000</td>\n",
       "      <td>92.000000</td>\n",
       "      <td>92.000000</td>\n",
       "    </tr>\n",
       "    <tr>\n",
       "      <th>mean</th>\n",
       "      <td>28.934783</td>\n",
       "      <td>4.119565</td>\n",
       "      <td>1149.153738</td>\n",
       "      <td>4.000000</td>\n",
       "    </tr>\n",
       "    <tr>\n",
       "      <th>std</th>\n",
       "      <td>4.369737</td>\n",
       "      <td>1.715107</td>\n",
       "      <td>237.131376</td>\n",
       "      <td>1.275294</td>\n",
       "    </tr>\n",
       "    <tr>\n",
       "      <th>min</th>\n",
       "      <td>22.000000</td>\n",
       "      <td>1.000000</td>\n",
       "      <td>768.119063</td>\n",
       "      <td>2.000000</td>\n",
       "    </tr>\n",
       "    <tr>\n",
       "      <th>25%</th>\n",
       "      <td>26.000000</td>\n",
       "      <td>3.000000</td>\n",
       "      <td>897.576270</td>\n",
       "      <td>3.000000</td>\n",
       "    </tr>\n",
       "    <tr>\n",
       "      <th>50%</th>\n",
       "      <td>28.500000</td>\n",
       "      <td>4.000000</td>\n",
       "      <td>1222.120914</td>\n",
       "      <td>4.000000</td>\n",
       "    </tr>\n",
       "    <tr>\n",
       "      <th>75%</th>\n",
       "      <td>31.000000</td>\n",
       "      <td>5.000000</td>\n",
       "      <td>1352.306818</td>\n",
       "      <td>5.000000</td>\n",
       "    </tr>\n",
       "    <tr>\n",
       "      <th>max</th>\n",
       "      <td>39.000000</td>\n",
       "      <td>7.000000</td>\n",
       "      <td>1466.414494</td>\n",
       "      <td>7.000000</td>\n",
       "    </tr>\n",
       "  </tbody>\n",
       "</table>\n",
       "</div>"
      ],
      "text/plain": [
       "             Age  WorkingYear       Salary  TrainedYear\n",
       "count  92.000000    92.000000    92.000000    92.000000\n",
       "mean   28.934783     4.119565  1149.153738     4.000000\n",
       "std     4.369737     1.715107   237.131376     1.275294\n",
       "min    22.000000     1.000000   768.119063     2.000000\n",
       "25%    26.000000     3.000000   897.576270     3.000000\n",
       "50%    28.500000     4.000000  1222.120914     4.000000\n",
       "75%    31.000000     5.000000  1352.306818     5.000000\n",
       "max    39.000000     7.000000  1466.414494     7.000000"
      ]
     },
     "execution_count": 3,
     "metadata": {},
     "output_type": "execute_result"
    }
   ],
   "source": [
    "df.describe()"
   ]
  },
  {
   "cell_type": "code",
   "execution_count": 41,
   "id": "2d8046c0",
   "metadata": {},
   "outputs": [
    {
     "data": {
      "text/plain": [
       "<AxesSubplot:xlabel='Salary'>"
      ]
     },
     "execution_count": 41,
     "metadata": {},
     "output_type": "execute_result"
    },
    {
     "data": {
      "image/png": "[encoded data removed]",
      "text/plain": [
       "<Figure size 432x288 with 1 Axes>"
      ]
     },
     "metadata": {
      "needs_background": "light"
     },
     "output_type": "display_data"
    }
   ],
   "source": [
    "\n",
    "# vẽ biểu đồ boxplot cho cột 'salary'\n",
    "sns.boxplot(x=df['Salary'])\n",
    "\n"
   ]
  },
  {
   "cell_type": "code",
   "execution_count": null,
   "id": "89e5d2fe",
   "metadata": {},
   "outputs": [],
   "source": [
    "\n"
   ]
  },
  {
   "cell_type": "code",
   "execution_count": 39,
   "id": "7701fd7a",
   "metadata": {},
   "outputs": [
    {
     "data": {
      "text/plain": [
       "<AxesSubplot:xlabel='Gender', ylabel='Salary'>"
      ]
     },
     "execution_count": 39,
     "metadata": {},
     "output_type": "execute_result"
    },
    {
     "data": {
      "image/png": "[encoded data removed]",
      "text/plain": [
       "<Figure size 432x288 with 1 Axes>"
      ]
     },
     "metadata": {
      "needs_background": "light"
     },
     "output_type": "display_data"
    }
   ],
   "source": [
    "sns.boxplot(data=df, x=\"Gender\", y=\"Salary\")"
   ]
  },
  {
   "cell_type": "code",
   "execution_count": 5,
   "id": "74e37a92",
   "metadata": {
    "scrolled": true
   },
   "outputs": [
    {
     "data": {
      "text/plain": [
       "Text(0.5, 1.0, 'Salary and Age Boxplot')"
      ]
     },
     "execution_count": 5,
     "metadata": {},
     "output_type": "execute_result"
    },
    {
     "data": {
      "image/png": "[encoded data removed]",
      "text/plain": [
       "<Figure size 720x360 with 1 Axes>"
      ]
     },
     "metadata": {
      "needs_background": "light"
     },
     "output_type": "display_data"
    }
   ],
   "source": [
    "import matplotlib.pyplot as plt\n",
    "import pandas as pd\n",
    "\n",
    "\n",
    "\n",
    "# Tạo figure và axis\n",
    "fig, ax = plt.subplots(figsize=(10, 5))\n",
    "\n",
    "# Vẽ biểu đồ boxplot cho trường salary và age\n",
    "#df[['TrainYear', 'Age']].plot(kind='box')\n",
    "df.boxplot(column=['Salary', 'Age'], ax=ax)\n",
    "\n",
    "# Đặt tiêu đề cho biểu đồ\n",
    "ax.set_title(\"Salary and Age Boxplot\")\n"
   ]
  },
  {
   "cell_type": "code",
   "execution_count": 20,
   "id": "d0594571",
   "metadata": {},
   "outputs": [
    {
     "data": {
      "text/plain": [
       "<AxesSubplot:xlabel='Salary', ylabel='Count'>"
      ]
     },
     "execution_count": 20,
     "metadata": {},
     "output_type": "execute_result"
    },
    {
     "data": {
      "image/png": "[encoded data removed]",
      "text/plain": [
       "<Figure size 432x288 with 1 Axes>"
      ]
     },
     "metadata": {
      "needs_background": "light"
     },
     "output_type": "display_data"
    }
   ],
   "source": [
    "# vẽ histogram cho cột 'salary'\n",
    "sns.histplot(data=df, x='Salary', bins=10)\n",
    "\n"
   ]
  },
  {
   "cell_type": "code",
   "execution_count": 6,
   "id": "5e988f18",
   "metadata": {},
   "outputs": [
    {
     "data": {
      "image/png": "[encoded data removed]",
      "text/plain": [
       "<Figure size 720x360 with 1 Axes>"
      ]
     },
     "metadata": {
      "needs_background": "light"
     },
     "output_type": "display_data"
    }
   ],
   "source": [
    "fig, ax = plt.subplots(figsize=(10, 5))\n",
    "\n",
    "# Vẽ biểu đồ histogram cho trường salary và age\n",
    "df['Salary'].hist(bins=10, alpha=0.5, ax=ax, label='salary')\n",
    "df['Age'].hist(bins=10, alpha=0.5, ax=ax, label='age')\n",
    "\n",
    "# Đặt tiêu đề cho biểu đồ\n",
    "ax.set_title(\"Salary and Age Histogram\")\n",
    "\n",
    "# Thêm nhãn cho trục hoành\n",
    "ax.set_xlabel(\"Salary and Age\")\n",
    "\n",
    "# Thêm nhãn cho trục tung\n",
    "ax.set_ylabel(\"Frequency\")\n",
    "\n",
    "# Hiển thị legend\n",
    "ax.legend()\n",
    "\n",
    "# Hiển thị biểu đồ\n",
    "plt.show()\n",
    "\n",
    "\n",
    "\n"
   ]
  },
  {
   "cell_type": "code",
   "execution_count": 22,
   "id": "c2dcc376",
   "metadata": {},
   "outputs": [
    {
     "data": {
      "text/plain": [
       "<AxesSubplot:xlabel='Age', ylabel='Salary'>"
      ]
     },
     "execution_count": 22,
     "metadata": {},
     "output_type": "execute_result"
    },
    {
     "data": {
      "image/png": "[encoded data removed]",
      "text/plain": [
       "<Figure size 432x288 with 1 Axes>"
      ]
     },
     "metadata": {
      "needs_background": "light"
     },
     "output_type": "display_data"
    }
   ],
   "source": [
    "# vẽ scatter plot giữa cột 'age' và 'salary'\n",
    "sns.scatterplot(data=df, x='Age', y='Salary')"
   ]
  },
  {
   "cell_type": "code",
   "execution_count": 10,
   "id": "9b2ae5f1",
   "metadata": {},
   "outputs": [],
   "source": [
    "#chuyển đổi dữ liệu thành một ma trận giá trị để vẽ heatmap. Có thể sử dụng hàm pivot_table() của pandas để chuyển đổi:\n",
    "pivot_table = df.pivot_table(values='Salary', index='Dept', columns='Gender')"
   ]
  },
  {
   "cell_type": "code",
   "execution_count": 11,
   "id": "23575c1b",
   "metadata": {},
   "outputs": [
    {
     "data": {
      "text/plain": [
       "<AxesSubplot:xlabel='Gender', ylabel='Dept'>"
      ]
     },
     "execution_count": 11,
     "metadata": {},
     "output_type": "execute_result"
    },
    {
     "data": {
      "image/png": "[encoded data removed]",
      "text/plain": [
       "<Figure size 432x288 with 2 Axes>"
      ]
     },
     "metadata": {
      "needs_background": "light"
     },
     "output_type": "display_data"
    }
   ],
   "source": [
    "\n",
    "sns.heatmap(pivot_table, cmap='YlGnBu')"
   ]
  },
  {
   "cell_type": "code",
   "execution_count": 54,
   "id": "9addf5db",
   "metadata": {},
   "outputs": [
    {
     "data": {
      "text/plain": [
       "<AxesSubplot:>"
      ]
     },
     "execution_count": 54,
     "metadata": {},
     "output_type": "execute_result"
    },
    {
     "data": {
      "image/png": "[encoded data removed]",
      "text/plain": [
       "<Figure size 432x288 with 1 Axes>"
      ]
     },
     "metadata": {
      "needs_background": "light"
     },
     "output_type": "display_data"
    }
   ],
   "source": [
    "sns.heatmap(df.corr(), cmap=\"YlGnBu\", annot=True, fmt='.2f',\n",
    "            annot_kws={'size': 20}, cbar=False, square=True)"
   ]
  },
  {
   "cell_type": "code",
   "execution_count": 26,
   "id": "1de5533f",
   "metadata": {},
   "outputs": [
    {
     "data": {
      "text/plain": [
       "<AxesSubplot:xlabel='TrainedYear', ylabel='Salary'>"
      ]
     },
     "execution_count": 26,
     "metadata": {},
     "output_type": "execute_result"
    },
    {
     "data": {
      "image/png": "[encoded data removed]",
      "text/plain": [
       "<Figure size 432x288 with 1 Axes>"
      ]
     },
     "metadata": {
      "needs_background": "light"
     },
     "output_type": "display_data"
    }
   ],
   "source": [
    "sns.scatterplot(x='TrainedYear', y='Salary', data=df)"
   ]
  },
  {
   "cell_type": "code",
   "execution_count": 29,
   "id": "2f695776",
   "metadata": {},
   "outputs": [
    {
     "name": "stdout",
     "output_type": "stream",
     "text": [
      "Spearman correlation coefficient:  0.8911628306462188 1.2028666905149592e-32\n"
     ]
    }
   ],
   "source": [
    "from scipy.stats import spearmanr\n",
    "corr, p_value = spearmanr(df[\"Salary\"], df[\"TrainedYear\"])\n",
    "print(\"Spearman correlation coefficient: \", corr, p_value)"
   ]
  },
  {
   "cell_type": "code",
   "execution_count": 30,
   "id": "6fb3e2e9",
   "metadata": {},
   "outputs": [
    {
     "data": {
      "text/html": [
       "<div>\n",
       "<style scoped>\n",
       "    .dataframe tbody tr th:only-of-type {\n",
       "        vertical-align: middle;\n",
       "    }\n",
       "\n",
       "    .dataframe tbody tr th {\n",
       "        vertical-align: top;\n",
       "    }\n",
       "\n",
       "    .dataframe thead th {\n",
       "        text-align: right;\n",
       "    }\n",
       "</style>\n",
       "<table border=\"1\" class=\"dataframe\">\n",
       "  <thead>\n",
       "    <tr style=\"text-align: right;\">\n",
       "      <th></th>\n",
       "      <th>Salary</th>\n",
       "      <th>TrainedYear</th>\n",
       "    </tr>\n",
       "  </thead>\n",
       "  <tbody>\n",
       "    <tr>\n",
       "      <th>Salary</th>\n",
       "      <td>1.000000</td>\n",
       "      <td>0.908832</td>\n",
       "    </tr>\n",
       "    <tr>\n",
       "      <th>TrainedYear</th>\n",
       "      <td>0.908832</td>\n",
       "      <td>1.000000</td>\n",
       "    </tr>\n",
       "  </tbody>\n",
       "</table>\n",
       "</div>"
      ],
      "text/plain": [
       "               Salary  TrainedYear\n",
       "Salary       1.000000     0.908832\n",
       "TrainedYear  0.908832     1.000000"
      ]
     },
     "execution_count": 30,
     "metadata": {},
     "output_type": "execute_result"
    }
   ],
   "source": [
    "df[['Salary','TrainedYear']].corr()"
   ]
  },
  {
   "cell_type": "code",
   "execution_count": null,
   "id": "27f879b0",
   "metadata": {},
   "outputs": [],
   "source": []
  }
 ],
 "metadata": {
  "kernelspec": {
   "display_name": "Python 3 (ipykernel)",
   "language": "python",
   "name": "python3"
  },
  "language_info": {
   "codemirror_mode": {
    "name": "ipython",
    "version": 3
   },
   "file_extension": ".py",
   "mimetype": "text/x-python",
   "name": "python",
   "nbconvert_exporter": "python",
   "pygments_lexer": "ipython3",
   "version": "3.9.13"
  }
 },
 "nbformat": 4,
 "nbformat_minor": 5
}
