{
 "cells": [
  {
   "cell_type": "code",
   "execution_count": 23,
   "id": "f4febac4",
   "metadata": {},
   "outputs": [
    {
     "name": "stdout",
     "output_type": "stream",
     "text": [
      "lưu file bán vàng thành công\n"
     ]
    }
   ],
   "source": [
    "import pandas as pd\n",
    "from fractions import Fraction\n",
    "sNgay = pd.Series([Fraction(\"1/3\"),Fraction(\"2/3\"),Fraction(\"3/3\"),Fraction(\"4/3\"),Fraction(\"5/3\"),Fraction(\"6/3\"),Fraction(\"7/3\")])\n",
    "sGiaBanRa = pd.Series([46,47,46,45,46,46,45])\n",
    "sGiaMuaVao = pd.Series([45,46,45.5,44.5,45,45.5,44.5])\n",
    "duLieu = {\"Ngày\":sNgay,\"Giá vàng bán ra\":sGiaBanRa,\"Giá vàng mua vào\":sGiaMuaVao}\n",
    "df = pd.DataFrame(duLieu)\n",
    "df.to_csv('D:\\\\testpython\\\\baithuchanh1\\\\databanvang.csv',index=False, encoding='utf-8-sig')\n",
    "print('lưu file bán vàng thành công')"
   ]
  },
  {
   "cell_type": "code",
   "execution_count": null,
   "id": "d40b0606",
   "metadata": {},
   "outputs": [],
   "source": []
  }
 ],
 "metadata": {
  "kernelspec": {
   "display_name": "Python 3 (ipykernel)",
   "language": "python",
   "name": "python3"
  },
  "language_info": {
   "codemirror_mode": {
    "name": "ipython",
    "version": 3
   },
   "file_extension": ".py",
   "mimetype": "text/x-python",
   "name": "python",
   "nbconvert_exporter": "python",
   "pygments_lexer": "ipython3",
   "version": "3.9.13"
  }
 },
 "nbformat": 4,
 "nbformat_minor": 5
}
