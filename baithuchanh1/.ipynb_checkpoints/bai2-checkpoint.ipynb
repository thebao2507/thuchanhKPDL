{
 "cells": [
  {
   "cell_type": "code",
   "execution_count": 3,
   "id": "abd25ef9",
   "metadata": {},
   "outputs": [],
   "source": [
    "import pandas as pd\n",
    "hoTen = ['Trung','Cảnh','Bảo','Quốc','Tùng']\n",
    "vangLyThuyet = [3,5,1,0,2]\n",
    "vangThucHanh = [2,1,0,0,1]\n",
    "khongNopBai = [0,3,0,2,1]\n",
    "duLieu = zip(hoTen,vangLyThuyet,vangThucHanh,khongNopBai)\n",
    "df = pd.DataFrame(data = duLieu,columns=['Tên sinh viên','Vắng lý thuyết','Vắng thực hành','Không nộp bài'])\n",
    "writer = pd.ExcelWriter('datavipham.xlsx',engine='xlsxwriter')\n",
    "df.to_excel(writer,sheet_name='Sheet1',index=False)\n",
    "writer.save()\n"
   ]
  },
  {
   "cell_type": "code",
   "execution_count": null,
   "id": "28773d9e",
   "metadata": {},
   "outputs": [],
   "source": []
  }
 ],
 "metadata": {
  "kernelspec": {
   "display_name": "Python 3 (ipykernel)",
   "language": "python",
   "name": "python3"
  },
  "language_info": {
   "codemirror_mode": {
    "name": "ipython",
    "version": 3
   },
   "file_extension": ".py",
   "mimetype": "text/x-python",
   "name": "python",
   "nbconvert_exporter": "python",
   "pygments_lexer": "ipython3",
   "version": "3.9.13"
  }
 },
 "nbformat": 4,
 "nbformat_minor": 5
}
