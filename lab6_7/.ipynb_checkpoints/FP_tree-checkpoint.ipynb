{
 "cells": [
  {
   "cell_type": "code",
   "execution_count": 2,
   "id": "10e399ca",
   "metadata": {},
   "outputs": [
    {
     "ename": "ModuleNotFoundError",
     "evalue": "No module named 'mlxtend'",
     "output_type": "error",
     "traceback": [
      "\u001b[1;31m---------------------------------------------------------------------------\u001b[0m",
      "\u001b[1;31mModuleNotFoundError\u001b[0m                       Traceback (most recent call last)",
      "\u001b[1;32m~\\AppData\\Local\\Temp\\ipykernel_2840\\3938056631.py\u001b[0m in \u001b[0;36m<module>\u001b[1;34m\u001b[0m\n\u001b[0;32m      3\u001b[0m \u001b[1;32mimport\u001b[0m \u001b[0mpandas\u001b[0m \u001b[1;32mas\u001b[0m \u001b[0mpd\u001b[0m\u001b[1;33m\u001b[0m\u001b[1;33m\u001b[0m\u001b[0m\n\u001b[0;32m      4\u001b[0m \u001b[1;32mimport\u001b[0m \u001b[0mnumpy\u001b[0m \u001b[1;32mas\u001b[0m \u001b[0mnp\u001b[0m\u001b[1;33m\u001b[0m\u001b[1;33m\u001b[0m\u001b[0m\n\u001b[1;32m----> 5\u001b[1;33m \u001b[1;32mfrom\u001b[0m \u001b[0mmlxtend\u001b[0m\u001b[1;33m.\u001b[0m\u001b[0mfrequent_patterns\u001b[0m \u001b[1;32mimport\u001b[0m \u001b[0mapriori\u001b[0m\u001b[1;33m,\u001b[0m \u001b[0massociation_rules\u001b[0m\u001b[1;33m\u001b[0m\u001b[1;33m\u001b[0m\u001b[0m\n\u001b[0m\u001b[0;32m      6\u001b[0m \u001b[1;33m\u001b[0m\u001b[0m\n",
      "\u001b[1;31mModuleNotFoundError\u001b[0m: No module named 'mlxtend'"
     ]
    }
   ],
   "source": [
    "\n",
    "import numpy as np # linear algebra\n",
    "import pandas as pd # data processing, CSV file I/O (e.g. pd.read_csv)\n",
    "import pandas as pd\n",
    "import numpy as np\n",
    "from mlxtend.frequent_patterns import apriori, association_rules\n",
    "\n"
   ]
  },
  {
   "cell_type": "code",
   "execution_count": 1,
   "id": "73fcc3cd",
   "metadata": {},
   "outputs": [
    {
     "ename": "NameError",
     "evalue": "name 'pd' is not defined",
     "output_type": "error",
     "traceback": [
      "\u001b[1;31m---------------------------------------------------------------------------\u001b[0m",
      "\u001b[1;31mNameError\u001b[0m                                 Traceback (most recent call last)",
      "\u001b[1;32m~\\AppData\\Local\\Temp\\ipykernel_2840\\3830254366.py\u001b[0m in \u001b[0;36m<module>\u001b[1;34m\u001b[0m\n\u001b[1;32m----> 1\u001b[1;33m \u001b[0mdf\u001b[0m \u001b[1;33m=\u001b[0m \u001b[0mpd\u001b[0m\u001b[1;33m.\u001b[0m\u001b[0mread_csv\u001b[0m\u001b[1;33m(\u001b[0m\u001b[1;34m'groceries - groceries.csv'\u001b[0m\u001b[1;33m)\u001b[0m\u001b[1;33m\u001b[0m\u001b[1;33m\u001b[0m\u001b[0m\n\u001b[0m\u001b[0;32m      2\u001b[0m \u001b[0mdf\u001b[0m\u001b[1;33m\u001b[0m\u001b[1;33m\u001b[0m\u001b[0m\n",
      "\u001b[1;31mNameError\u001b[0m: name 'pd' is not defined"
     ]
    }
   ],
   "source": [
    "df = pd.read_csv('groceries - groceries.csv')\n",
    "df"
   ]
  },
  {
   "cell_type": "code",
   "execution_count": 7,
   "id": "1d0e6ee9",
   "metadata": {},
   "outputs": [],
   "source": [
    "from mlxtend.frequent_patterns import fpgrowth"
   ]
  },
  {
   "cell_type": "code",
   "execution_count": 8,
   "id": "7fa3f18a",
   "metadata": {},
   "outputs": [],
   "source": [
    "items = (df['Item 1'].unique())"
   ]
  },
  {
   "cell_type": "code",
   "execution_count": 10,
   "id": "9d6f8271",
   "metadata": {},
   "outputs": [],
   "source": [
    "encoded_vals = []\n",
    "for index, row in df.iterrows():\n",
    "    labels = {}\n",
    "    uncommons = list(set(items) - set(row))\n",
    "    commons = list(set(items).intersection(row))\n",
    "    for uc in uncommons:\n",
    "        labels[uc] = 0\n",
    "    for com in commons:\n",
    "        labels[com] = 1\n",
    "    encoded_vals.append(labels)\n",
    "encoded_vals[0]\n",
    "ohe_df = pd.DataFrame(encoded_vals)"
   ]
  },
  {
   "cell_type": "code",
   "execution_count": 11,
   "id": "0daa72a3",
   "metadata": {},
   "outputs": [
    {
     "name": "stderr",
     "output_type": "stream",
     "text": [
      "C:\\Users\\Lenovo\\anaconda3\\lib\\site-packages\\mlxtend\\frequent_patterns\\fpcommon.py:111: DeprecationWarning: DataFrames with non-bool types result in worse computationalperformance and their support might be discontinued in the future.Please use a DataFrame with bool type\n",
      "  warnings.warn(\n"
     ]
    },
    {
     "data": {
      "text/html": [
       "<div>\n",
       "<style scoped>\n",
       "    .dataframe tbody tr th:only-of-type {\n",
       "        vertical-align: middle;\n",
       "    }\n",
       "\n",
       "    .dataframe tbody tr th {\n",
       "        vertical-align: top;\n",
       "    }\n",
       "\n",
       "    .dataframe thead th {\n",
       "        text-align: right;\n",
       "    }\n",
       "</style>\n",
       "<table border=\"1\" class=\"dataframe\">\n",
       "  <thead>\n",
       "    <tr style=\"text-align: right;\">\n",
       "      <th></th>\n",
       "      <th>support</th>\n",
       "      <th>itemsets</th>\n",
       "    </tr>\n",
       "  </thead>\n",
       "  <tbody>\n",
       "    <tr>\n",
       "      <th>0</th>\n",
       "      <td>0.082766</td>\n",
       "      <td>(citrus fruit)</td>\n",
       "    </tr>\n",
       "    <tr>\n",
       "      <th>1</th>\n",
       "      <td>0.058566</td>\n",
       "      <td>(margarine)</td>\n",
       "    </tr>\n",
       "    <tr>\n",
       "      <th>2</th>\n",
       "      <td>0.139502</td>\n",
       "      <td>(yogurt)</td>\n",
       "    </tr>\n",
       "    <tr>\n",
       "      <th>3</th>\n",
       "      <td>0.104931</td>\n",
       "      <td>(tropical fruit)</td>\n",
       "    </tr>\n",
       "    <tr>\n",
       "      <th>4</th>\n",
       "      <td>0.058058</td>\n",
       "      <td>(coffee)</td>\n",
       "    </tr>\n",
       "  </tbody>\n",
       "</table>\n",
       "</div>"
      ],
      "text/plain": [
       "    support          itemsets\n",
       "0  0.082766    (citrus fruit)\n",
       "1  0.058566       (margarine)\n",
       "2  0.139502          (yogurt)\n",
       "3  0.104931  (tropical fruit)\n",
       "4  0.058058          (coffee)"
      ]
     },
     "execution_count": 11,
     "metadata": {},
     "output_type": "execute_result"
    }
   ],
   "source": [
    "freq_items = fpgrowth(ohe_df, min_support=0.02, use_colnames=True)\n",
    "freq_items.head()"
   ]
  },
  {
   "cell_type": "code",
   "execution_count": 12,
   "id": "a6e58462",
   "metadata": {},
   "outputs": [
    {
     "data": {
      "text/html": [
       "<div>\n",
       "<style scoped>\n",
       "    .dataframe tbody tr th:only-of-type {\n",
       "        vertical-align: middle;\n",
       "    }\n",
       "\n",
       "    .dataframe tbody tr th {\n",
       "        vertical-align: top;\n",
       "    }\n",
       "\n",
       "    .dataframe thead th {\n",
       "        text-align: right;\n",
       "    }\n",
       "</style>\n",
       "<table border=\"1\" class=\"dataframe\">\n",
       "  <thead>\n",
       "    <tr style=\"text-align: right;\">\n",
       "      <th></th>\n",
       "      <th>antecedents</th>\n",
       "      <th>consequents</th>\n",
       "      <th>antecedent support</th>\n",
       "      <th>consequent support</th>\n",
       "      <th>support</th>\n",
       "      <th>confidence</th>\n",
       "      <th>lift</th>\n",
       "      <th>leverage</th>\n",
       "      <th>conviction</th>\n",
       "    </tr>\n",
       "  </thead>\n",
       "  <tbody>\n",
       "    <tr>\n",
       "      <th>0</th>\n",
       "      <td>(whole milk)</td>\n",
       "      <td>(citrus fruit)</td>\n",
       "      <td>0.255516</td>\n",
       "      <td>0.082766</td>\n",
       "      <td>0.030503</td>\n",
       "      <td>0.119379</td>\n",
       "      <td>1.442377</td>\n",
       "      <td>0.009355</td>\n",
       "      <td>1.041577</td>\n",
       "    </tr>\n",
       "    <tr>\n",
       "      <th>1</th>\n",
       "      <td>(citrus fruit)</td>\n",
       "      <td>(whole milk)</td>\n",
       "      <td>0.082766</td>\n",
       "      <td>0.255516</td>\n",
       "      <td>0.030503</td>\n",
       "      <td>0.368550</td>\n",
       "      <td>1.442377</td>\n",
       "      <td>0.009355</td>\n",
       "      <td>1.179008</td>\n",
       "    </tr>\n",
       "    <tr>\n",
       "      <th>2</th>\n",
       "      <td>(yogurt)</td>\n",
       "      <td>(citrus fruit)</td>\n",
       "      <td>0.139502</td>\n",
       "      <td>0.082766</td>\n",
       "      <td>0.021657</td>\n",
       "      <td>0.155248</td>\n",
       "      <td>1.875752</td>\n",
       "      <td>0.010111</td>\n",
       "      <td>1.085803</td>\n",
       "    </tr>\n",
       "    <tr>\n",
       "      <th>3</th>\n",
       "      <td>(citrus fruit)</td>\n",
       "      <td>(yogurt)</td>\n",
       "      <td>0.082766</td>\n",
       "      <td>0.139502</td>\n",
       "      <td>0.021657</td>\n",
       "      <td>0.261671</td>\n",
       "      <td>1.875752</td>\n",
       "      <td>0.010111</td>\n",
       "      <td>1.165467</td>\n",
       "    </tr>\n",
       "    <tr>\n",
       "      <th>4</th>\n",
       "      <td>(citrus fruit)</td>\n",
       "      <td>(other vegetables)</td>\n",
       "      <td>0.082766</td>\n",
       "      <td>0.193493</td>\n",
       "      <td>0.028876</td>\n",
       "      <td>0.348894</td>\n",
       "      <td>1.803140</td>\n",
       "      <td>0.012862</td>\n",
       "      <td>1.238674</td>\n",
       "    </tr>\n",
       "  </tbody>\n",
       "</table>\n",
       "</div>"
      ],
      "text/plain": [
       "      antecedents         consequents  antecedent support  consequent support  \\\n",
       "0    (whole milk)      (citrus fruit)            0.255516            0.082766   \n",
       "1  (citrus fruit)        (whole milk)            0.082766            0.255516   \n",
       "2        (yogurt)      (citrus fruit)            0.139502            0.082766   \n",
       "3  (citrus fruit)            (yogurt)            0.082766            0.139502   \n",
       "4  (citrus fruit)  (other vegetables)            0.082766            0.193493   \n",
       "\n",
       "    support  confidence      lift  leverage  conviction  \n",
       "0  0.030503    0.119379  1.442377  0.009355    1.041577  \n",
       "1  0.030503    0.368550  1.442377  0.009355    1.179008  \n",
       "2  0.021657    0.155248  1.875752  0.010111    1.085803  \n",
       "3  0.021657    0.261671  1.875752  0.010111    1.165467  \n",
       "4  0.028876    0.348894  1.803140  0.012862    1.238674  "
      ]
     },
     "execution_count": 12,
     "metadata": {},
     "output_type": "execute_result"
    }
   ],
   "source": [
    "rules = association_rules(freq_items, metric=\"confidence\", min_threshold=0.1)\n",
    "rules.head(5)"
   ]
  },
  {
   "cell_type": "code",
   "execution_count": null,
   "id": "182bb28e",
   "metadata": {},
   "outputs": [],
   "source": []
  }
 ],
 "metadata": {
  "kernelspec": {
   "display_name": "Python 3 (ipykernel)",
   "language": "python",
   "name": "python3"
  },
  "language_info": {
   "codemirror_mode": {
    "name": "ipython",
    "version": 3
   },
   "file_extension": ".py",
   "mimetype": "text/x-python",
   "name": "python",
   "nbconvert_exporter": "python",
   "pygments_lexer": "ipython3",
   "version": "3.9.13"
  }
 },
 "nbformat": 4,
 "nbformat_minor": 5
}
